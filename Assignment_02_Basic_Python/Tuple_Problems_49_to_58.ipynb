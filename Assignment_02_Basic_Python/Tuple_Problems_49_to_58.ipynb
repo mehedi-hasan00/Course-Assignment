{
 "cells": [
  {
   "cell_type": "markdown",
   "id": "49053d5b-f1f5-4662-84a7-77abff90d78c",
   "metadata": {},
   "source": [
    "# Tuple Problems(49-58):"
   ]
  },
  {
   "cell_type": "markdown",
   "id": "a15ca187-e062-4140-accf-6bb2c4f01043",
   "metadata": {},
   "source": [
    "### 49. Tuple Concatenation: Write a Python program to concatenate two tuples and create a new tuple."
   ]
  },
  {
   "cell_type": "code",
   "execution_count": 1,
   "id": "4f537a8a-7120-4673-85d4-d0f7354b44bd",
   "metadata": {},
   "outputs": [
    {
     "name": "stdout",
     "output_type": "stream",
     "text": [
      "New Tuple: (1, 2, 3, 4, 5, 6)\n"
     ]
    }
   ],
   "source": [
    "A = (1,2,3)\n",
    "B = (4,5,6)\n",
    "\n",
    "print(\"New Tuple:\", A+B)"
   ]
  },
  {
   "cell_type": "markdown",
   "id": "0bd372bf-54ba-4862-a7a0-5de7143de904",
   "metadata": {},
   "source": [
    "### 50. Tuple Unpacking: Given a tuple with three elements (x, y, z), write a Python program to unpack the tuple and assign the values to three variables."
   ]
  },
  {
   "cell_type": "code",
   "execution_count": 4,
   "id": "9960ea43-6fcc-42fb-89f7-2b86802b5a90",
   "metadata": {},
   "outputs": [
    {
     "name": "stdout",
     "output_type": "stream",
     "text": [
      "x = 1\n",
      "y = 2\n",
      "z = 3\n"
     ]
    }
   ],
   "source": [
    "tpl = (1, 2, 3)\n",
    "\n",
    "x,y,z = tpl\n",
    "\n",
    "print(f\"x = {x}\\ny = {y}\\nz = {z}\")\n"
   ]
  },
  {
   "cell_type": "markdown",
   "id": "1d10564d-0b36-402a-808c-b4362f075311",
   "metadata": {},
   "source": [
    "### 51. Tuple Sorting: Write a Python program to sort a tuple of integers in ascending order."
   ]
  },
  {
   "cell_type": "code",
   "execution_count": 8,
   "id": "1180f334-83f1-4394-a788-4643dd62b957",
   "metadata": {},
   "outputs": [
    {
     "name": "stdout",
     "output_type": "stream",
     "text": [
      "(-4, -3, 0, 1, 4, 6, 9)\n"
     ]
    }
   ],
   "source": [
    "x = (4,6,1,9,-4,-3,0)\n",
    "\n",
    "y_list = sorted(x)\n",
    "y_tuple = tuple(y_list)\n",
    "\n",
    "print(y_tuple)\n"
   ]
  },
  {
   "cell_type": "markdown",
   "id": "e844caca-80f9-4651-8e47-28ee2615d246",
   "metadata": {},
   "source": [
    "### 52. Tuple Frequency Count: Given a tuple containing various elements, write a Python program to count the frequency of a specific element in the tuple."
   ]
  },
  {
   "cell_type": "code",
   "execution_count": 11,
   "id": "b7bff217-c3e3-43ba-b1bd-bf70aa11cad9",
   "metadata": {},
   "outputs": [
    {
     "name": "stdout",
     "output_type": "stream",
     "text": [
      "3\n"
     ]
    }
   ],
   "source": [
    "def tuple_count(tpl, value):\n",
    "    return tpl.count(value)\n",
    "tpl = ( 1,2,3,4,3,2,4,6,1,2,4,5)\n",
    "x = tuple_count(tpl, 2)\n",
    "print(x)"
   ]
  },
  {
   "cell_type": "markdown",
   "id": "759af032-9f6d-4299-9c05-bec9c9b57c53",
   "metadata": {},
   "source": [
    "### 53. Tuple to List: Write a Python program to convert a tuple into a list."
   ]
  },
  {
   "cell_type": "code",
   "execution_count": 12,
   "id": "60b5a527-054e-4ef9-bae7-c8e5c26780ac",
   "metadata": {},
   "outputs": [
    {
     "name": "stdout",
     "output_type": "stream",
     "text": [
      "[4, 6, 1, 9, -4, -3, 0]\n"
     ]
    }
   ],
   "source": [
    "x = (4,6,1,9,-4,-3,0)\n",
    "\n",
    "y_list = list(x)\n",
    "\n",
    "print(y_list)"
   ]
  },
  {
   "cell_type": "markdown",
   "id": "55a3ff29-8dbd-44bd-a26f-176ab2c8c502",
   "metadata": {},
   "source": [
    "### 54. Tuple Reversal: Write a Python program to reverse a tuple without using any built-in functions."
   ]
  },
  {
   "cell_type": "code",
   "execution_count": 17,
   "id": "4814ec70-43b4-41b3-94a8-8db16bcfd900",
   "metadata": {},
   "outputs": [
    {
     "name": "stdout",
     "output_type": "stream",
     "text": [
      "(6, 5, 4, 3, 2, 1)\n"
     ]
    }
   ],
   "source": [
    "A = (1,2,3,4,5,6)\n",
    "B = ()\n",
    "\n",
    "for i in range(len(A)-1,-1,-1):\n",
    "    B += (A[i],)\n",
    "    \n",
    "print(B)"
   ]
  },
  {
   "cell_type": "markdown",
   "id": "15ffcd7f-244a-435a-9e22-fb190901eaa2",
   "metadata": {},
   "source": [
    "### 55. Tuple Slicing: Given a tuple, write a Python program to extract a slice of elements from it."
   ]
  },
  {
   "cell_type": "code",
   "execution_count": 18,
   "id": "7b7b8d59-23d4-423d-829f-88e389d71f3a",
   "metadata": {},
   "outputs": [
    {
     "name": "stdout",
     "output_type": "stream",
     "text": [
      "(3, 4, 5, 6)\n"
     ]
    }
   ],
   "source": [
    "A = (1,2,3,4,5,6)\n",
    "new_tpl = A[2:]\n",
    "print(new_tpl)"
   ]
  },
  {
   "cell_type": "markdown",
   "id": "b60a935a-ebd8-4381-9c79-0f2203a39ac1",
   "metadata": {},
   "source": [
    "### 56. Tuple Operations: Given two tuples of integers, write a Python program to perform element-wise addition, subtraction, and multiplication and create new tuples for each operation."
   ]
  },
  {
   "cell_type": "code",
   "execution_count": 26,
   "id": "97456723-6994-4598-9220-68f983f86d94",
   "metadata": {},
   "outputs": [
    {
     "name": "stdout",
     "output_type": "stream",
     "text": [
      "Addition: (6, 8, 4, 13, 8, 13)\n",
      "Subtraction: (-4, -4, 2, -5, 2, -1)\n",
      "Multiplication: (5, 12, 3, 36, 15, 42)\n"
     ]
    }
   ],
   "source": [
    "A = (1, 2, 3, 4, 5, 6)\n",
    "B = (5, 6, 1, 9, 3, 7)\n",
    "add_tuple = ()\n",
    "sub_tuple = ()\n",
    "mult_tuple = ()\n",
    "\n",
    "for i in range(len(A)):\n",
    "    add_tuple += (A[i] + B[i],)\n",
    "    sub_tuple += (A[i] - B[i],)\n",
    "    mult_tuple += (A[i] * B[i],)\n",
    "    \n",
    "print(f\"Addition: {add_tuple}\")\n",
    "print(f\"Subtraction: {sub_tuple}\")\n",
    "print(f\"Multiplication: {mult_tuple}\")"
   ]
  },
  {
   "cell_type": "code",
   "execution_count": 29,
   "id": "ec3889cc-d550-4210-b56e-04819346b6fc",
   "metadata": {},
   "outputs": [
    {
     "name": "stdout",
     "output_type": "stream",
     "text": [
      "Addition: (6, 8, 4, 13, 8, 13)\n",
      "Subtraction: (-4, -4, 2, -5, 2, -1)\n",
      "Multiplication: (5, 12, 3, 36, 15, 42)\n"
     ]
    }
   ],
   "source": [
    "add_ = tuple(a+b for a,b in zip(A,B))\n",
    "sub_ = tuple(a-b for a,b in zip(A,B))\n",
    "mult_ = tuple(a*b for a,b in zip(A,B))\n",
    "\n",
    "print(f\"Addition: {add_}\")\n",
    "print(f\"Subtraction: {sub_}\")\n",
    "print(f\"Multiplication: {mult_}\")"
   ]
  },
  {
   "cell_type": "markdown",
   "id": "ec786adb-4301-4fb1-9b6f-5966e33453d8",
   "metadata": {},
   "source": [
    "### 57. Tuple Membership Test: Write a Python program that takes an element as input and checks if it exists in a given tuple."
   ]
  },
  {
   "cell_type": "code",
   "execution_count": 31,
   "id": "d2f93c19-b1d1-48eb-901f-5a2e9081afd0",
   "metadata": {},
   "outputs": [
    {
     "name": "stdin",
     "output_type": "stream",
     "text": [
      "Enter a digit to check:  10\n"
     ]
    },
    {
     "name": "stdout",
     "output_type": "stream",
     "text": [
      "10 Doesn't exist in the tuple.\n"
     ]
    }
   ],
   "source": [
    "t = ( 1,2,3,4,3,2,4,6,1,2,4,5)\n",
    "element = int(input(\"Enter a digit to check: \"))\n",
    "if element in t:\n",
    "    print(f\"{element} Exists in the tuple.\")\n",
    "else:\n",
    "    print(f\"{element} Doesn't exist in the tuple.\")"
   ]
  },
  {
   "cell_type": "markdown",
   "id": "9aa3852d-14cf-4073-adfb-1f94941e2277",
   "metadata": {},
   "source": [
    "### 58. Tuple Packing: Write a Python program to pack three variables into a single tuple and print the tuple."
   ]
  },
  {
   "cell_type": "code",
   "execution_count": 32,
   "id": "50f1e822-eef6-4222-ae90-5fc3f0db4bb8",
   "metadata": {},
   "outputs": [
    {
     "name": "stdout",
     "output_type": "stream",
     "text": [
      "(12, 30, 42)\n"
     ]
    }
   ],
   "source": [
    "a = 12\n",
    "b = 30\n",
    "c = 42\n",
    "tpl = (a, b, c)\n",
    "print(tpl)"
   ]
  }
 ],
 "metadata": {
  "kernelspec": {
   "display_name": "Python 3 (ipykernel)",
   "language": "python",
   "name": "python3"
  },
  "language_info": {
   "codemirror_mode": {
    "name": "ipython",
    "version": 3
   },
   "file_extension": ".py",
   "mimetype": "text/x-python",
   "name": "python",
   "nbconvert_exporter": "python",
   "pygments_lexer": "ipython3",
   "version": "3.13.5"
  }
 },
 "nbformat": 4,
 "nbformat_minor": 5
}
