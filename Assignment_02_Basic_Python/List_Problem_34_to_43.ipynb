{
 "cells": [
  {
   "cell_type": "markdown",
   "id": "8332faf0-6919-4e8b-adc7-78283ee65815",
   "metadata": {},
   "source": [
    "# List Problems(34 to 43):"
   ]
  },
  {
   "cell_type": "markdown",
   "id": "5e62ff54-71d5-4d01-bdfb-49d7c14a4bcd",
   "metadata": {},
   "source": [
    "### 34. List Sum: Write a Python program to find the sum of all elements in a given list of integers."
   ]
  },
  {
   "cell_type": "code",
   "execution_count": 32,
   "id": "1e7520c8-17df-4888-8337-aa2ad1f38a3d",
   "metadata": {},
   "outputs": [
    {
     "name": "stdout",
     "output_type": "stream",
     "text": [
      "Sum of the list:28.5\n"
     ]
    }
   ],
   "source": [
    "x = [2,1,5,4,3,7,6.5]\n",
    "print(f\"Sum of the list:{sum(x)}\")"
   ]
  },
  {
   "cell_type": "code",
   "execution_count": 33,
   "id": "0b249324-3439-4653-9df5-e5a6601d8ff1",
   "metadata": {},
   "outputs": [
    {
     "name": "stdout",
     "output_type": "stream",
     "text": [
      "Sum of the list: 28.5\n"
     ]
    }
   ],
   "source": [
    "total = 0\n",
    "for i in x:\n",
    "    total += i\n",
    "print(f\"Sum of the list: {total}\")"
   ]
  },
  {
   "cell_type": "markdown",
   "id": "159ec892-49fc-4e17-90c1-8f25b02dda52",
   "metadata": {},
   "source": [
    "### 35. List Average: Write a Python program to calculate the average of all elements in a given list of integers."
   ]
  },
  {
   "cell_type": "code",
   "execution_count": 34,
   "id": "20fcc6ae-c8be-455e-ab94-c7f17f308eca",
   "metadata": {},
   "outputs": [
    {
     "name": "stdout",
     "output_type": "stream",
     "text": [
      "Average: 4.071428571428571\n"
     ]
    }
   ],
   "source": [
    "avr_x = total/len(x)\n",
    "print(f\"Average: {avr_x}\")"
   ]
  },
  {
   "cell_type": "markdown",
   "id": "07c9a207-f4b5-48d2-9d63-0d248c75b6dd",
   "metadata": {},
   "source": [
    "### 36. List Max and Min: Write a Python program to find the maximum and minimum values in a given list of integers."
   ]
  },
  {
   "cell_type": "code",
   "execution_count": 35,
   "id": "17a84e65-2e6a-4482-b4cc-d1c8f3c9add2",
   "metadata": {},
   "outputs": [
    {
     "name": "stdout",
     "output_type": "stream",
     "text": [
      "maximun value: 7\n",
      "minimum value: 1\n"
     ]
    }
   ],
   "source": [
    "max_x = max(x)\n",
    "min_x = min(x)\n",
    "print(f\"maximun value: {max_x}\\nminimum value: {min_x}\")"
   ]
  },
  {
   "cell_type": "markdown",
   "id": "c0c3f4b1-0d2d-4e7b-8093-3de883c7242e",
   "metadata": {},
   "source": [
    "### 37. List Sorting: Write a Python program to sort a list of integers in ascending order."
   ]
  },
  {
   "cell_type": "code",
   "execution_count": 36,
   "id": "09d084f7-ebe6-4703-b674-3773f904b95b",
   "metadata": {},
   "outputs": [
    {
     "name": "stdout",
     "output_type": "stream",
     "text": [
      "[1, 2, 3, 4, 5, 6.5, 7]\n"
     ]
    }
   ],
   "source": [
    "x.sort()\n",
    "print(x)"
   ]
  },
  {
   "cell_type": "code",
   "execution_count": 38,
   "id": "704a9425-918b-45e7-be4b-f376a9e63ea9",
   "metadata": {},
   "outputs": [
    {
     "name": "stdout",
     "output_type": "stream",
     "text": [
      "[7, 6.5, 5, 4, 3, 2, 1]\n"
     ]
    }
   ],
   "source": [
    "x.sort(reverse = True)\n",
    "print(x)"
   ]
  },
  {
   "cell_type": "markdown",
   "id": "a60649fe-f207-4e77-9124-2951ed2d56a0",
   "metadata": {},
   "source": [
    "### 38. List Filtering: Given a list of integers, write a Python program to create a new list that contains only the even numbers from the original list."
   ]
  },
  {
   "cell_type": "code",
   "execution_count": 39,
   "id": "af0c9600-5d6a-4de1-a1e0-644bf003ce94",
   "metadata": {},
   "outputs": [],
   "source": [
    "l1 = [12,13,14,15,16,17,18,19]\n",
    "even = [num for num in l1 if num % 2 == 0]"
   ]
  },
  {
   "cell_type": "code",
   "execution_count": 41,
   "id": "108b47ed-2ee8-4516-8107-da150742c5cc",
   "metadata": {},
   "outputs": [
    {
     "name": "stdout",
     "output_type": "stream",
     "text": [
      "Even number list: [12, 14, 16, 18]\n"
     ]
    }
   ],
   "source": [
    "print(f\"Even number list: {even}\")"
   ]
  },
  {
   "cell_type": "code",
   "execution_count": 46,
   "id": "dc4aeb07-f0f6-4a0e-8a07-5ce76ab82447",
   "metadata": {},
   "outputs": [
    {
     "name": "stdout",
     "output_type": "stream",
     "text": [
      "[12, 14, 16, 18]\n"
     ]
    }
   ],
   "source": [
    "even = []\n",
    "for num in l1:\n",
    "    if num % 2 == 0:\n",
    "        even.append(num)\n",
    "print(even)"
   ]
  },
  {
   "cell_type": "markdown",
   "id": "753a2f53-8158-486d-bbc4-a59217a31f73",
   "metadata": {},
   "source": [
    "### 39. List Reversal: Write a Python program to reverse a given list without using any built-in functions."
   ]
  },
  {
   "cell_type": "code",
   "execution_count": 50,
   "id": "eb94704b-15c5-40a3-a118-6bc3f537dd52",
   "metadata": {},
   "outputs": [
    {
     "name": "stdout",
     "output_type": "stream",
     "text": [
      "Reversed of the list: [19, 18, 17, 16, 15, 14, 13, 12]\n"
     ]
    }
   ],
   "source": [
    "rev = []\n",
    "i = len(l1)-1\n",
    "while i >= 0:\n",
    "    rev.append(l1[i])\n",
    "    i -= 1\n",
    "print(f\"Reversed of the list: {rev}\")"
   ]
  },
  {
   "cell_type": "markdown",
   "id": "b8d8c149-4460-4912-87b5-0a1b87a40595",
   "metadata": {},
   "source": [
    "### 40. List Manipulation: Given two lists of integers, write a Python program to create a new list that contains elements common to both lists."
   ]
  },
  {
   "cell_type": "code",
   "execution_count": 52,
   "id": "89baa8e0-bef5-4cfa-94cd-670058cbddc9",
   "metadata": {},
   "outputs": [
    {
     "name": "stdout",
     "output_type": "stream",
     "text": [
      "Common element of a and b: [3, 4]\n"
     ]
    }
   ],
   "source": [
    "a = [ 1,2,3,4]\n",
    "b = [3,4,5,6]\n",
    "intersection = []\n",
    "for item in a:\n",
    "    if item in b:\n",
    "        intersection.append(item)\n",
    "print(f\"Common element of a and b: {intersection}\")"
   ]
  },
  {
   "cell_type": "markdown",
   "id": "0b8a968e-f8d7-4c0f-ab8d-017ba8355e01",
   "metadata": {},
   "source": [
    "### 41. List Element Count: Write a Python program to count the occurrences of a specific element in a given list."
   ]
  },
  {
   "cell_type": "code",
   "execution_count": 54,
   "id": "42aa66e5-28ea-4d06-9a13-02121c086592",
   "metadata": {},
   "outputs": [
    {
     "data": {
      "text/plain": [
       "3"
      ]
     },
     "execution_count": 54,
     "metadata": {},
     "output_type": "execute_result"
    }
   ],
   "source": [
    "c = [ 6,1,2,34,5,55,7,6,2,3,6]\n",
    "c.count(6)\n"
   ]
  },
  {
   "cell_type": "markdown",
   "id": "0d00f9fc-3077-4cbd-95c6-a08886fa6123",
   "metadata": {},
   "source": [
    "### 42. List Duplicates Removal: Write a Python program to remove duplicates from a given list while preserving the order of the elements."
   ]
  },
  {
   "cell_type": "code",
   "execution_count": 55,
   "id": "6dccda4f-bedd-46cb-928d-afee076afe98",
   "metadata": {},
   "outputs": [
    {
     "name": "stdout",
     "output_type": "stream",
     "text": [
      "[1, 2, 3, 4, 5, 6, 7, 8, 9, 10, 21, 50]\n"
     ]
    }
   ],
   "source": [
    "l = [ 1,2,3,4,5,6,7,8,9,3,2,1,3,5,1,10,21,50]\n",
    "new_list = list(dict.fromkeys(l))\n",
    "print(new_list)"
   ]
  },
  {
   "cell_type": "markdown",
   "id": "4e7065c4-cab3-44df-a887-2981d44b3392",
   "metadata": {},
   "source": [
    "### 43. List Comprehension: Given a list of integers, write a Python program to create a new list that contains the squares of the elements using list comprehension."
   ]
  },
  {
   "cell_type": "code",
   "execution_count": 57,
   "id": "d8f09cf0-7924-44ec-a164-05032c40fb91",
   "metadata": {},
   "outputs": [
    {
     "name": "stdout",
     "output_type": "stream",
     "text": [
      "[1, 4, 9, 16, 25, 36]\n"
     ]
    }
   ],
   "source": [
    "z = [1,2,3,4,5,6]\n",
    "new_list = [num**2 for num in z]\n",
    "print(new_list)"
   ]
  },
  {
   "cell_type": "code",
   "execution_count": null,
   "id": "4521b041-d191-4dcc-bb7c-30c1fed79f52",
   "metadata": {},
   "outputs": [],
   "source": []
  }
 ],
 "metadata": {
  "kernelspec": {
   "display_name": "Python 3 (ipykernel)",
   "language": "python",
   "name": "python3"
  },
  "language_info": {
   "codemirror_mode": {
    "name": "ipython",
    "version": 3
   },
   "file_extension": ".py",
   "mimetype": "text/x-python",
   "name": "python",
   "nbconvert_exporter": "python",
   "pygments_lexer": "ipython3",
   "version": "3.13.5"
  }
 },
 "nbformat": 4,
 "nbformat_minor": 5
}
