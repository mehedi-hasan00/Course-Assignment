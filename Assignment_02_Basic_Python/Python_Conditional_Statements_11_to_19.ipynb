{
 "cells": [
  {
   "cell_type": "markdown",
   "id": "297e5188-3b6f-4b2a-a82c-c077f88672c5",
   "metadata": {},
   "source": [
    "# Python Conditional Statements(11 - 19):"
   ]
  },
  {
   "cell_type": "markdown",
   "id": "95e921dd-18f3-44f8-be0c-3b197100a81d",
   "metadata": {},
   "source": [
    "### 11. Positive, Negative, or Zero: Write a Python program that takes a number as input and prints whether it is positive, negative, or zero."
   ]
  },
  {
   "cell_type": "code",
   "execution_count": 1,
   "id": "35e79050-3163-4db8-8f20-ad153ebbc301",
   "metadata": {},
   "outputs": [
    {
     "name": "stdout",
     "output_type": "stream",
     "text": [
      "12 is a Positive number.\n"
     ]
    }
   ],
   "source": [
    "num = 12\n",
    "if num > 0:\n",
    "    print(f\"{num} is a Positive number.\")\n",
    "elif num < 0:\n",
    "    print(f\"{num} is a Negative number.\")\n",
    "else:\n",
    "    print(f\"{num} is a Zero.\")"
   ]
  },
  {
   "cell_type": "markdown",
   "id": "18eff98e-6b41-4287-964e-de4e1247491a",
   "metadata": {},
   "source": [
    "### 12. Largest of Three Numbers: Write a Python program that takes three numbers as input and prints the largest among them."
   ]
  },
  {
   "cell_type": "code",
   "execution_count": 2,
   "id": "74b2880c-615e-4cbc-85c2-254896256b01",
   "metadata": {},
   "outputs": [
    {
     "name": "stdout",
     "output_type": "stream",
     "text": [
      "13 is the largest number.\n"
     ]
    }
   ],
   "source": [
    "num1 = 11\n",
    "num2 = 13\n",
    "num3 = 10\n",
    "\n",
    "if num1 > num2 and num1 > num3:\n",
    "    print(f\"{num1} is the largest number.\")\n",
    "    \n",
    "elif num2 > num1 and num2 > num3:\n",
    "    print(f\"{num2} is the largest number.\")\n",
    "    \n",
    "else:\n",
    "    print(f\"{num3} is the largest number.\")"
   ]
  },
  {
   "cell_type": "markdown",
   "id": "a30ddfa8-5fb2-4bab-808e-2e292aa19cdf",
   "metadata": {},
   "source": [
    "### 13. Leap Year Checker: Write a Python program that takes a year as input and determines if it is a leap year or not."
   ]
  },
  {
   "cell_type": "code",
   "execution_count": 3,
   "id": "c9404880-aa61-44d1-a5a0-fe3b325cd05b",
   "metadata": {},
   "outputs": [
    {
     "name": "stdout",
     "output_type": "stream",
     "text": [
      "1997 is not a Leap Year!\n"
     ]
    }
   ],
   "source": [
    "year = 1997\n",
    "\n",
    "if (year % 4 == 0 and year % 100 != 0) or (year % 400 == 0):\n",
    "    print(f\"{year} is a Leap Year!\")\n",
    "    \n",
    "else:\n",
    "    print(f\"{year} is not a Leap Year!\")\n",
    "    "
   ]
  },
  {
   "cell_type": "markdown",
   "id": "91c9fa3a-9db5-40b2-a825-9f24dbc61708",
   "metadata": {},
   "source": [
    "### 14. Grades Classification: Write a Python program that takes a student’s percentage as input and prints their corresponding grade according to the following criteria: – 90% or above: A+ – 80-89%: A – 70-79%: B – 60-69%: C – Below 60%: Fail"
   ]
  },
  {
   "cell_type": "code",
   "execution_count": 4,
   "id": "54710268-a876-4f50-a661-784eb4904251",
   "metadata": {},
   "outputs": [
    {
     "name": "stdout",
     "output_type": "stream",
     "text": [
      "Your percentage is 87% and you got an A.\n"
     ]
    }
   ],
   "source": [
    "#grade = int(input(\"Enter your percentage: \")\n",
    "grade = 87\n",
    "if grade >= 90:\n",
    "    print(f\"Your percentage is {grade}% and you got an A+.\")\n",
    "    \n",
    "elif 80 <= grade < 90:\n",
    "    print(f\"Your percentage is {grade}% and you got an A.\")\n",
    "    \n",
    "elif 70 <= grade < 80:\n",
    "    print(f\"Your percentage is {grade}% and you got a B.\")\n",
    "    \n",
    "elif 60 <= grade < 70:\n",
    "    print(f\"Your percentage is {grade}% and you got a C.\")\n",
    "    \n",
    "else:\n",
    "    print(f\"Your percentage is {grade}% and you failed.\")\n",
    "    \n",
    "    "
   ]
  },
  {
   "cell_type": "markdown",
   "id": "6ead8e74-87a8-4dc2-ab48-20caec08af6b",
   "metadata": {},
   "source": [
    "### 15. Vowel or Consonant: Write a Python program that takes a single character as input and determines whether it is a vowel or a consonant."
   ]
  },
  {
   "cell_type": "code",
   "execution_count": 2,
   "id": "4c02f043-5b3c-4778-a159-7d4359506848",
   "metadata": {},
   "outputs": [
    {
     "name": "stdin",
     "output_type": "stream",
     "text": [
      "Enter a letter:  h\n"
     ]
    },
    {
     "name": "stdout",
     "output_type": "stream",
     "text": [
      "h is a consonant.\n"
     ]
    }
   ],
   "source": [
    "letter = input(\"Enter a letter: \").lower()\n",
    "\n",
    "if letter in ['a', 'e', 'i', 'o', 'u']:\n",
    "    print(f\"{letter} is a Vowel.\")\n",
    "    \n",
    "elif letter.isalpha() and len(letter) == 1:\n",
    "    print(f\"{letter} is a consonant.\")\n",
    "    \n",
    "else:\n",
    "    print(\"Please enter a single letter.\")\n",
    "    "
   ]
  },
  {
   "cell_type": "markdown",
   "id": "f12b65a0-8151-4385-8f05-f996dfd79fa3",
   "metadata": {},
   "source": [
    "### 16. Time Classification: Write a Python program that takes the time in hours (24-hour format) as input and prints “Good Morning”, “Good Afternoon”, “Good Evening”, or “Good Night” based on the time."
   ]
  },
  {
   "cell_type": "code",
   "execution_count": 3,
   "id": "f46f039e-5601-4259-86c9-e2311a14c188",
   "metadata": {},
   "outputs": [
    {
     "name": "stdin",
     "output_type": "stream",
     "text": [
      "Enter the time in hour (0 to 23):  12\n"
     ]
    },
    {
     "name": "stdout",
     "output_type": "stream",
     "text": [
      "Good Afernoon! It's 12 o'clock.\n"
     ]
    }
   ],
   "source": [
    "hour = int(input(\"Enter the time in hour (0 to 23): \"))\n",
    "\n",
    "if 5<= hour <12:\n",
    "    print(f\"Good Morning! It's {hour} o'clock.\")\n",
    "    \n",
    "elif 12<= hour < 17:\n",
    "    print(f\"Good Afernoon! It's {hour} o'clock.\")\n",
    "    \n",
    "elif 17<= hour <21:\n",
    "    print(f\"Good Evening! It's {hour} o'clock.\")\n",
    "    \n",
    "elif 21<= hour <24 or 0<= hour <5:\n",
    "    print(f\"Good Night! It's {hour} o'clock.\")\n",
    "    \n",
    "else:\n",
    "    print(\"Invalid hour. Please enter a valid hour between 0 to 23.\")\n",
    "    "
   ]
  },
  {
   "cell_type": "markdown",
   "id": "8c4618ee-ebb6-4c05-8194-8e9f3cd9160b",
   "metadata": {},
   "source": [
    "### 17. Triangle Type Checker: Write a Python program that takes three sides of a triangle as input and determines whether it forms an equilateral, isosceles, or scalene triangle."
   ]
  },
  {
   "cell_type": "code",
   "execution_count": 5,
   "id": "1f4f0065-6942-497e-a7a6-085756879070",
   "metadata": {},
   "outputs": [
    {
     "name": "stdin",
     "output_type": "stream",
     "text": [
      "Enter side a:  3\n",
      "Enter side b:  4\n",
      "Enter side c:  6\n"
     ]
    },
    {
     "name": "stdout",
     "output_type": "stream",
     "text": [
      "Scalene Triangle\n"
     ]
    }
   ],
   "source": [
    "a = float(input(\"Enter side a: \"))\n",
    "b = float(input(\"Enter side b: \"))\n",
    "c = float(input(\"Enter side c: \"))\n",
    "\n",
    "if a+b > c and b+c > a and a+c > b:\n",
    "    \n",
    "    if a == b == c:\n",
    "        print(\"Equilateral Triangle\")\n",
    "        \n",
    "    elif a == b or b == c or a == c:\n",
    "        print(\"Isosceles Triangle\")\n",
    "        \n",
    "    else:\n",
    "        print(\"Scalene Triangle\")\n",
    "        \n",
    "else:\n",
    "    print(\"Invalid Triangle. Try with new value.\")\n",
    "    "
   ]
  },
  {
   "cell_type": "markdown",
   "id": "f0288043-078a-465f-87b5-71640428fdc5",
   "metadata": {},
   "source": [
    "### 18. Quadratic Equation Solver: Write a Python program that takes the coefficients (a, b, c) of a quadratic equation as input and calculates and prints the real roots (if they exist) or a message indicating the complex roots."
   ]
  },
  {
   "cell_type": "code",
   "execution_count": 6,
   "id": "bdb042f9-e59b-4313-a564-6639b7fb740f",
   "metadata": {},
   "outputs": [
    {
     "name": "stdin",
     "output_type": "stream",
     "text": [
      "Enter coefficient a:  3\n",
      "Enter coefficient b:  5\n",
      "Enter coefficient c:  6\n"
     ]
    },
    {
     "name": "stdout",
     "output_type": "stream",
     "text": [
      "The equation has complex root: -0.8333333333333334 ± 1.1426091000668406\n"
     ]
    }
   ],
   "source": [
    "import math\n",
    "a = float(input(\"Enter coefficient a: \"))\n",
    "b = float(input(\"Enter coefficient b: \"))\n",
    "c = float(input(\"Enter coefficient c: \"))\n",
    "# formula x = (-b ± sqrt(b**2 - 4*a*c)/(2*a))\n",
    "d = b**2 - 4*a*c\n",
    "\n",
    "if d>0:\n",
    "    root1 = (-b + math.sqrt(d) / (2*a))\n",
    "    root2 = (-b - math.sqrt(d) / (2*a))\n",
    "    print(f\"The equation has two real roots: {root1} and {root2}\")\n",
    "    \n",
    "elif d == 0:\n",
    "    root = -b / (2*a)\n",
    "    print(f\"The equation has one real root: {root}\")\n",
    "    \n",
    "else:\n",
    "    real_part = -b / (2*a)\n",
    "    img_part = math.sqrt(-d)/ (2*a)\n",
    "    print(f\"The equation has complex root: {real_part} ± {img_part}\")\n",
    "    "
   ]
  },
  {
   "cell_type": "markdown",
   "id": "7467cac2-680c-41fb-9534-13257c33ba2a",
   "metadata": {},
   "source": [
    "### 19. Number Ranges: Write a Python program that takes an integer as input and prints whether the number falls within the ranges: 0-50, 51-100, 101-150, or above 150."
   ]
  },
  {
   "cell_type": "code",
   "execution_count": 7,
   "id": "582161a4-1017-4105-be52-89cbd9095d7c",
   "metadata": {},
   "outputs": [
    {
     "name": "stdin",
     "output_type": "stream",
     "text": [
      "Enter a number:  110\n"
     ]
    },
    {
     "name": "stdout",
     "output_type": "stream",
     "text": [
      "The number 110 falls within the range 101- 150.\n"
     ]
    }
   ],
   "source": [
    "number = int(input(\"Enter a number: \"))\n",
    "\n",
    "if 0 <= number <= 50:\n",
    "    print(f\"The number {number} falls within the range 0-50.\")\n",
    "    \n",
    "elif 51 <= number <= 100:\n",
    "    print(f\"The numbe {number} r falls within the range 51-100.\")\n",
    "    \n",
    "elif 101 <= number <= 150:\n",
    "    print(f\"The number {number} falls within the range 101- 150.\")\n",
    "    \n",
    "elif number > 150:\n",
    "    print(f\"The number {number} is avobe 150.\")\n",
    "    \n",
    "else:\n",
    "    print(\"Invalid number.\")\n"
   ]
  },
  {
   "cell_type": "code",
   "execution_count": null,
   "id": "7afe0fb5-f17d-408d-85dc-8e33696a02ca",
   "metadata": {},
   "outputs": [],
   "source": []
  }
 ],
 "metadata": {
  "kernelspec": {
   "display_name": "Python 3 (ipykernel)",
   "language": "python",
   "name": "python3"
  },
  "language_info": {
   "codemirror_mode": {
    "name": "ipython",
    "version": 3
   },
   "file_extension": ".py",
   "mimetype": "text/x-python",
   "name": "python",
   "nbconvert_exporter": "python",
   "pygments_lexer": "ipython3",
   "version": "3.13.5"
  }
 },
 "nbformat": 4,
 "nbformat_minor": 5
}
