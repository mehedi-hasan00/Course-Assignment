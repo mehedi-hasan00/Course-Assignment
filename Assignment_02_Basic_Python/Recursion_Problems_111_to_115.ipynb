{
 "cells": [
  {
   "cell_type": "markdown",
   "id": "8d155a74-cb1f-459c-9d85-a815dfbe3b24",
   "metadata": {},
   "source": [
    "# Recursion(111-115):"
   ]
  },
  {
   "cell_type": "markdown",
   "id": "0a3c446c-efa9-4fc6-8400-4e9aaecb5916",
   "metadata": {},
   "source": [
    "### 111. Factorial Calculation: Write a recursive Python function called `factorial` that takes a non-negative integer as input and returns its factorial."
   ]
  },
  {
   "cell_type": "code",
   "execution_count": 2,
   "id": "634cf516-bccd-4bd2-9933-075e884eb28d",
   "metadata": {},
   "outputs": [
    {
     "name": "stdin",
     "output_type": "stream",
     "text": [
      "Enter a number:  7\n"
     ]
    },
    {
     "name": "stdout",
     "output_type": "stream",
     "text": [
      "Factorial of 7 is : 5040\n"
     ]
    }
   ],
   "source": [
    "def factorial(n):\n",
    "    if n==0 or n == 1:\n",
    "        return 1\n",
    "    else:\n",
    "        return n*factorial(n-1)\n",
    "num = int(input(\"Enter a number: \"))\n",
    "print(f\"Factorial of {num} is : {factorial(num)}\")\n"
   ]
  },
  {
   "cell_type": "markdown",
   "id": "9e16c90c-7847-4bf6-bb04-9a901d00d2db",
   "metadata": {},
   "source": [
    "### 112. Fibonacci Series: Write a recursive Python function called `Fibonacci` that takes an integer N as input and returns the Nth number in the Fibonacci series. The Fibonacci series is defined as follows: F(0) = 0, F(1) = 1, and F(n) = F(n-1) + F(n-2) for n > 1."
   ]
  },
  {
   "cell_type": "code",
   "execution_count": 9,
   "id": "f497d121-8897-47d2-a695-5d1b0bd3b359",
   "metadata": {},
   "outputs": [
    {
     "name": "stdin",
     "output_type": "stream",
     "text": [
      "Enter the Position of the series:  3\n"
     ]
    },
    {
     "name": "stdout",
     "output_type": "stream",
     "text": [
      "The 3th Fibonacci number is: 2\n"
     ]
    }
   ],
   "source": [
    "def Fibonacci(n):\n",
    "    if n == 0:\n",
    "        return 0\n",
    "    elif n == 1:\n",
    "        return 1\n",
    "    else:\n",
    "        return Fibonacci(n-1)+Fibonacci(n-2)\n",
    "num = int(input(\"Enter the Position of the series: \"))\n",
    "print(f\"The {num}th Fibonacci number is: {Fibonacci(num)}\")"
   ]
  },
  {
   "cell_type": "markdown",
   "id": "c8b97671-7cd3-4abb-9454-fcf4cbc6c124",
   "metadata": {},
   "source": [
    "### 113. The sum of Digits: Write a recursive Python function called `sum_of_digits` that takes an integer as input and returns the sum of its digits."
   ]
  },
  {
   "cell_type": "code",
   "execution_count": 13,
   "id": "ca68709d-7ecd-48b7-852e-01b3c887480d",
   "metadata": {},
   "outputs": [
    {
     "name": "stdin",
     "output_type": "stream",
     "text": [
      "Enter a number:  1001\n"
     ]
    },
    {
     "name": "stdout",
     "output_type": "stream",
     "text": [
      "Sum of digits (1001) is : 2\n"
     ]
    }
   ],
   "source": [
    "def sum_of_digits(num):\n",
    "    if num == 0:\n",
    "        return 0\n",
    "    else:\n",
    "        return (num % 10)+ sum_of_digits(num // 10)\n",
    "user_num = int(input(\"Enter a number: \"))\n",
    "\n",
    "print(f\"Sum of digits ({user_num}) is : {sum_of_digits(user_num)}\")\n"
   ]
  },
  {
   "cell_type": "markdown",
   "id": "956a857f-9286-4cfa-94ac-3975b1c0c3b8",
   "metadata": {},
   "source": [
    "### 114. Binary Search: Write a recursive Python function called `binary_search` that takes a sorted list and a target value as input and returns the index of the target value in the list using binary search. If the target value is not in the list, return -1."
   ]
  },
  {
   "cell_type": "code",
   "execution_count": 5,
   "id": "36793fc0-afba-4c38-8e51-7a40f16c9b60",
   "metadata": {},
   "outputs": [
    {
     "name": "stdin",
     "output_type": "stream",
     "text": [
      "Enter a number to search:  60\n"
     ]
    },
    {
     "name": "stdout",
     "output_type": "stream",
     "text": [
      "Element 60 found at index 4.\n"
     ]
    }
   ],
   "source": [
    "def binary_search(array,target):\n",
    "    left, right = 0 , len(array)-1\n",
    "    while left <= right:\n",
    "        mid = (left+right)//2\n",
    "        if array[mid] == target:\n",
    "            return mid\n",
    "        elif array[mid] < target:\n",
    "            left = mid+1\n",
    "        else:\n",
    "            right = mid -1\n",
    "    return -1\n",
    "numbers = [20,30,40,50,60,70]\n",
    "target = int(input(\"Enter a number to search: \"))\n",
    "result = binary_search(numbers, target)\n",
    "if result != -1:\n",
    "    print(f\"Element {target} found at index {result}.\")\n",
    "else:\n",
    "    print(\"Element not found.\")"
   ]
  },
  {
   "cell_type": "markdown",
   "id": "d03f5fa8-af6d-4e82-88a0-48dad1384d78",
   "metadata": {},
   "source": [
    "### 115. Power Calculation: Write a recursive Python function called `power` that takes two positive integers, base and exponent, as input and returns the value of base raised to the exponent."
   ]
  },
  {
   "cell_type": "code",
   "execution_count": null,
   "id": "091703ad-231c-41ae-ac6f-e6fe8ab10343",
   "metadata": {},
   "outputs": [],
   "source": []
  }
 ],
 "metadata": {
  "kernelspec": {
   "display_name": "Python 3 (ipykernel)",
   "language": "python",
   "name": "python3"
  },
  "language_info": {
   "codemirror_mode": {
    "name": "ipython",
    "version": 3
   },
   "file_extension": ".py",
   "mimetype": "text/x-python",
   "name": "python",
   "nbconvert_exporter": "python",
   "pygments_lexer": "ipython3",
   "version": "3.13.5"
  }
 },
 "nbformat": 4,
 "nbformat_minor": 5
}
