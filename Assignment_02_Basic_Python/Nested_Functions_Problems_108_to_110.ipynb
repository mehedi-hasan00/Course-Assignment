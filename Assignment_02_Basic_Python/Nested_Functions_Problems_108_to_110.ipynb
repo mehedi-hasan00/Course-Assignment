{
 "cells": [
  {
   "cell_type": "markdown",
   "id": "b7e88040-e1a5-4342-8409-cf9b669e51f2",
   "metadata": {},
   "source": [
    "# Nested Functions Problems(108 to 110):"
   ]
  },
  {
   "cell_type": "markdown",
   "id": "f703991b-69e9-4d95-b5f9-50cd4f1d37a7",
   "metadata": {},
   "source": [
    "### 108. Math Operations: Write a Python function called `math_operations` that takes three numbers and a string representing an operation (‘add’, ‘subtract’, ‘multiply’, or ‘divide’). The function should return the result of the specified operation on the three numbers. Implement the math operations as nested functions."
   ]
  },
  {
   "cell_type": "code",
   "execution_count": 6,
   "id": "710efee1-8917-47d2-b052-d52833bc127e",
   "metadata": {},
   "outputs": [
    {
     "name": "stdout",
     "output_type": "stream",
     "text": [
      "6\n",
      "-6\n",
      "84\n",
      "0.19\n"
     ]
    }
   ],
   "source": [
    "def math_operations(a,b,c,operation):\n",
    "    def add(x,y,z):\n",
    "        return x+y+z\n",
    "    def subtract(x,y,z):\n",
    "        return x-y-z\n",
    "    def multiply(x,y,z):\n",
    "        return x*y*z\n",
    "    def divide(x,y,z):\n",
    "        return x/y/z\n",
    "    if operation == 'add':\n",
    "        return add(a,b,c)\n",
    "    if operation == 'subtract':\n",
    "        return subtract(a,b,c)\n",
    "    if operation == 'multiply':\n",
    "        return multiply(a,b,c)\n",
    "    if operation == 'divide':\n",
    "        return divide(a,b,c)\n",
    "print(math_operations(1,2,3,'add'))\n",
    "print(math_operations(4,7,3,'subtract'))\n",
    "print(math_operations(4,7,3,'multiply'))\n",
    "print(f\"{math_operations(4,7,3,'divide'):.2f}\")"
   ]
  },
  {
   "cell_type": "markdown",
   "id": "2bed94d9-f17f-42fe-82f3-bbe8f37c1d5e",
   "metadata": {},
   "source": [
    "### 109. Greeting Generator: Write a Python function called `greeting_generator` that takes a name as input and returns a greeting message using nested functions. The greeting message should be customizable (e.g., “Hello, {name}! How are you today?”)."
   ]
  },
  {
   "cell_type": "code",
   "execution_count": 14,
   "id": "c9509703-1db0-4639-9430-53e1e4cc3163",
   "metadata": {},
   "outputs": [
    {
     "name": "stdout",
     "output_type": "stream",
     "text": [
      "Hello, Mehedi! Good morning!\n",
      "How are you today?\n"
     ]
    }
   ],
   "source": [
    "def greeting_generator(name):\n",
    "    def creat_message():\n",
    "        return f\"Hello, {name}! Good morning!\"\n",
    "    def add_more(ask):\n",
    "        return ask+ '\\nHow are you today?'\n",
    "    greeting = creat_message()\n",
    "    final_greeting = add_more(greeting)\n",
    "    return final_greeting\n",
    "print(greeting_generator('Mehedi'))"
   ]
  },
  {
   "cell_type": "markdown",
   "id": "30938662-851b-49ef-91fa-b9a1930ce4e7",
   "metadata": {},
   "source": [
    "### 110. Temperature Converter: Write a Python function called `temperature_converter` that takes a temperature value and a string representing the scale (‘C’ for Celsius or ‘F’ for Fahrenheit) as input. The function should convert the temperature from one scale to the other using nested functions and return the converted value."
   ]
  },
  {
   "cell_type": "code",
   "execution_count": 20,
   "id": "5b8901a3-73a2-4a7a-9e62-58339c105453",
   "metadata": {},
   "outputs": [
    {
     "name": "stdout",
     "output_type": "stream",
     "text": [
      "12°C =53.60°F \n",
      "12°F =-11.11°C \n",
      "Invalid scale.\n"
     ]
    }
   ],
   "source": [
    "def temperature_converter(value, scale):\n",
    "    def c_to_f(celsius):\n",
    "        return (celsius * 9/5) + 32\n",
    "    def f_to_c(fahrenheit):\n",
    "        return (fahrenheit - 32) * 5/9\n",
    "\n",
    "    if scale == \"C\":\n",
    "        return f\"{value}°C ={c_to_f(value):.2f}°F \"\n",
    "    elif scale == \"F\":\n",
    "        return f\"{value}°F ={f_to_c(value):.2f}°C \"\n",
    "    else:\n",
    "        return \"Invalid scale.\"\n",
    "        \n",
    "print(temperature_converter(12,'C'))\n",
    "print(temperature_converter(12,'F'))\n",
    "print(temperature_converter(12,'f'))"
   ]
  },
  {
   "cell_type": "code",
   "execution_count": null,
   "id": "56e8b224-282e-424d-b0c1-fb8f2c086e80",
   "metadata": {},
   "outputs": [],
   "source": []
  }
 ],
 "metadata": {
  "kernelspec": {
   "display_name": "Python 3 (ipykernel)",
   "language": "python",
   "name": "python3"
  },
  "language_info": {
   "codemirror_mode": {
    "name": "ipython",
    "version": 3
   },
   "file_extension": ".py",
   "mimetype": "text/x-python",
   "name": "python",
   "nbconvert_exporter": "python",
   "pygments_lexer": "ipython3",
   "version": "3.13.5"
  }
 },
 "nbformat": 4,
 "nbformat_minor": 5
}
