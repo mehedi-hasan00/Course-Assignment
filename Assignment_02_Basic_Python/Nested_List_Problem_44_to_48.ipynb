{
 "cells": [
  {
   "cell_type": "markdown",
   "id": "d20e7592-122a-42d7-bbf1-9a32e30ff4f6",
   "metadata": {},
   "source": [
    "# Nested List Problems(44 to 48):"
   ]
  },
  {
   "cell_type": "markdown",
   "id": "671bdccb-e0a4-4960-8438-5bd9948ce013",
   "metadata": {},
   "source": [
    "### 44. Matrix Addition: Write a Python program to add two matrices represented as nested lists."
   ]
  },
  {
   "cell_type": "code",
   "execution_count": 3,
   "id": "dac4cb63-c379-4186-a64f-f47bbf3fef8c",
   "metadata": {},
   "outputs": [
    {
     "name": "stdout",
     "output_type": "stream",
     "text": [
      "[5, 6, 13]\n",
      "[3, 9, 12]\n",
      "[8, 5, 10]\n"
     ]
    }
   ],
   "source": [
    "A = [[1,3,6],\n",
    "     [2,1,6],\n",
    "     [1,2,5]\n",
    "    ]\n",
    "B = [[4,3,7],\n",
    "     [1,8,6],\n",
    "     [7,3,5]\n",
    "    ]\n",
    "\n",
    "rows = len(A)\n",
    "cols = len(A[0])\n",
    "\n",
    "C = [[ 0 for _ in range(rows)] for _ in range(cols)]\n",
    "\n",
    "for i in range(rows):\n",
    "    for j in range(cols):\n",
    "        C[i][j] += A[i][j] + B[i][j]\n",
    "        \n",
    "for row in C:\n",
    "    print(row)"
   ]
  },
  {
   "cell_type": "markdown",
   "id": "80c3e0c9-ade5-4beb-906e-7a495d2dc559",
   "metadata": {},
   "source": [
    "### 45. Flatten Nested List: Write a Python program to flatten a given nested list and convert it into a single-dimensional list."
   ]
  },
  {
   "cell_type": "code",
   "execution_count": 15,
   "id": "c02b42df-20eb-4fa6-b986-b4ccc103faa3",
   "metadata": {},
   "outputs": [
    {
     "name": "stdout",
     "output_type": "stream",
     "text": [
      "Old Nested list: [[1, 2, 3], [4, 5, 6], 7, [8, 9]]\n",
      "New Flat list: [1, 2, 3, 4, 5, 6, 7, 8, 9]\n"
     ]
    }
   ],
   "source": [
    "lst = [[1,2,3],[4,5,6],7,[8,9]]\n",
    "flat_list = []\n",
    "for item in lst:\n",
    "    if isinstance(item, list):\n",
    "        for element in item:\n",
    "            flat_list.append(element)\n",
    "    else:\n",
    "        flat_list.append(item)\n",
    "print(f\"Old Nested list: {lst}\")\n",
    "print(f\"New Flat list: {flat_list}\")"
   ]
  },
  {
   "cell_type": "markdown",
   "id": "3f426aa1-067c-458d-805b-b4cb4c2899ec",
   "metadata": {},
   "source": [
    "### 46. List Element Frequency: Given a nested list containing lists of integers, write a Python program to count the frequency of each element in the entire nested list."
   ]
  },
  {
   "cell_type": "code",
   "execution_count": 9,
   "id": "40a43654-0538-4ad8-87af-b33616c75bfd",
   "metadata": {},
   "outputs": [
    {
     "name": "stdout",
     "output_type": "stream",
     "text": [
      "frequency of each element in the entire nested list:\n",
      "{1: 2, 2: 2, 3: 2, 6: 1, 7: 2}\n"
     ]
    }
   ],
   "source": [
    "lst1 = [[1,2,3],[3,2,6],7,[7,1]]\n",
    "flat = []\n",
    "\n",
    "for item in lst1:\n",
    "    if type(item) is list:\n",
    "        for element in item:\n",
    "            flat.append(element)\n",
    "    else:\n",
    "        flat.append(item)\n",
    "        \n",
    "freq ={}\n",
    "for num in flat:\n",
    "    freq[num] = freq.get(num,0)+1\n",
    "print(\"frequency of each element in the entire nested list:\")\n",
    "print(freq)\n"
   ]
  },
  {
   "cell_type": "markdown",
   "id": "fb52fd69-268e-471b-95b5-9c6d4cc9f43c",
   "metadata": {},
   "source": [
    "### 47. Transpose Matrix: Write a Python program to transpose a given matrix represented as a nested list."
   ]
  },
  {
   "cell_type": "code",
   "execution_count": 12,
   "id": "e7fd613b-0c39-4cfc-a38c-5d381fd3ffe7",
   "metadata": {},
   "outputs": [
    {
     "name": "stdout",
     "output_type": "stream",
     "text": [
      "[[1, 4], [2, 5], [3, 6]]\n"
     ]
    }
   ],
   "source": [
    "A = [[1,2,3],\n",
    "     [4,5,6]]\n",
    "\n",
    "rows = len(A)\n",
    "cols = len(A[0])\n",
    "\n",
    "Trans_matrix = [[0 for _ in range(rows)] for _ in range (cols)]\n",
    "\n",
    "for i in range(rows):\n",
    "    for j in range(cols):\n",
    "        Trans_matrix[j][i] += A[i][j]\n",
    "        \n",
    "print(Trans_matrix)\n"
   ]
  },
  {
   "cell_type": "markdown",
   "id": "281fc08e-c087-4137-a2cd-720eaa3aa66c",
   "metadata": {},
   "source": [
    "### 48. List of Lists Concatenation: Given a list of nested lists, write a Python program to concatenate all the sublists into a single flat list."
   ]
  },
  {
   "cell_type": "code",
   "execution_count": 18,
   "id": "076ba874-42f0-4ef0-87a2-8b56991246a2",
   "metadata": {},
   "outputs": [
    {
     "name": "stdout",
     "output_type": "stream",
     "text": [
      "Old Nested list: [[1, 2, 3], [4, 5, 6], 7, [8, 9]]\n",
      "New Flat list: [1, 2, 3, 4, 5, 6, 7, 8, 9]\n"
     ]
    }
   ],
   "source": [
    "lst = [[1,2,3],[4,5,6],7,[8,9]]\n",
    "flat_list = []\n",
    "for item in lst:\n",
    "    if isinstance(item,list):\n",
    "        for element in item:\n",
    "            flat_list.append(element)\n",
    "    else:\n",
    "        flat_list.append(item)\n",
    "print(f\"Old Nested list: {lst}\")\n",
    "print(f\"New Flat list: {flat_list}\")"
   ]
  },
  {
   "cell_type": "code",
   "execution_count": null,
   "id": "acdb7668-35ba-4e2c-8d9a-6076ae8f7c2c",
   "metadata": {},
   "outputs": [],
   "source": []
  }
 ],
 "metadata": {
  "kernelspec": {
   "display_name": "Python 3 (ipykernel)",
   "language": "python",
   "name": "python3"
  },
  "language_info": {
   "codemirror_mode": {
    "name": "ipython",
    "version": 3
   },
   "file_extension": ".py",
   "mimetype": "text/x-python",
   "name": "python",
   "nbconvert_exporter": "python",
   "pygments_lexer": "ipython3",
   "version": "3.13.5"
  }
 },
 "nbformat": 4,
 "nbformat_minor": 5
}
