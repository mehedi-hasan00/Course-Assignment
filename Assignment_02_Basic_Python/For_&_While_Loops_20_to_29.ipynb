{
 "cells": [
  {
   "cell_type": "markdown",
   "id": "94b0d19d-1bc6-48d0-adb0-db0efdeef01a",
   "metadata": {},
   "source": [
    "# For and While loop(20 to 29)"
   ]
  },
  {
   "cell_type": "markdown",
   "id": "4500d381-d2fb-4a5e-ae2b-eb5083229da9",
   "metadata": {},
   "source": [
    "### 20. Sum of N Numbers: Write a Python program using a for loop to calculate the sum of the first N natural numbers, where N is taken as input from the user."
   ]
  },
  {
   "cell_type": "code",
   "execution_count": 1,
   "id": "fd616bf8-d7d0-4c10-975a-ee75231ddea5",
   "metadata": {},
   "outputs": [
    {
     "name": "stdin",
     "output_type": "stream",
     "text": [
      "Enter a number:  10\n"
     ]
    },
    {
     "name": "stdout",
     "output_type": "stream",
     "text": [
      "Sum of first 10 natural numbers is:  55\n"
     ]
    }
   ],
   "source": [
    "number = int(input(\"Enter a number: \"))\n",
    "total = 0\n",
    "\n",
    "for i in range(1, number+1):\n",
    "    total += i\n",
    "print(f\"Sum of first {number} natural numbers is: \", total)"
   ]
  },
  {
   "cell_type": "markdown",
   "id": "61ddf624-41b3-4fd3-85ac-86fba60c0e31",
   "metadata": {},
   "source": [
    "### 21. Factorial Calculator: Write a Python program using a while loop to calculate the factorial of a given number N."
   ]
  },
  {
   "cell_type": "code",
   "execution_count": 2,
   "id": "ede9bbce-65d7-4bb7-8f80-f222f65e02c9",
   "metadata": {},
   "outputs": [
    {
     "name": "stdin",
     "output_type": "stream",
     "text": [
      "Enter a number:  10\n"
     ]
    },
    {
     "name": "stdout",
     "output_type": "stream",
     "text": [
      "The factorial of 10 is : 3628800\n"
     ]
    }
   ],
   "source": [
    "number = int(input(\"Enter a number: \"))\n",
    "factorial = 1\n",
    "i = 1\n",
    "while i<=number:\n",
    "    factorial *= i\n",
    "    i += 1\n",
    "print(f\"The factorial of {number} is : {factorial}\")"
   ]
  },
  {
   "cell_type": "markdown",
   "id": "4a54914b-26d0-46ed-bd6e-30b6ae0c45af",
   "metadata": {},
   "source": [
    "### 22. Table of a Number: Write a Python program using a for loop to print the multiplication table of a given number N."
   ]
  },
  {
   "cell_type": "code",
   "execution_count": 3,
   "id": "69957bc7-b505-448d-84a2-f4e0b1e509f6",
   "metadata": {},
   "outputs": [
    {
     "name": "stdin",
     "output_type": "stream",
     "text": [
      "Enter a number:  10\n"
     ]
    },
    {
     "name": "stdout",
     "output_type": "stream",
     "text": [
      "The Multiplication Table of 10.\n",
      "1 x 10 = 10\n",
      "2 x 10 = 20\n",
      "3 x 10 = 30\n",
      "4 x 10 = 40\n",
      "5 x 10 = 50\n",
      "6 x 10 = 60\n",
      "7 x 10 = 70\n",
      "8 x 10 = 80\n",
      "9 x 10 = 90\n",
      "10 x 10 = 100\n"
     ]
    }
   ],
   "source": [
    "number = int(input(\"Enter a number: \"))\n",
    "print(f\"The Multiplication Table of {number}.\")\n",
    "for i in range(1, 11):\n",
    "    print(f\"{i} x {number} = {i*number}\")"
   ]
  },
  {
   "cell_type": "markdown",
   "id": "83d09c57-3160-4956-8995-61bb9e66c488",
   "metadata": {},
   "source": [
    "### 23. Count Digits in a Number: Write a Python program using a while loop to count the number of digits in a given integer N."
   ]
  },
  {
   "cell_type": "code",
   "execution_count": 4,
   "id": "3d2d57ef-98c7-4a29-9399-1e5cb5c368a9",
   "metadata": {},
   "outputs": [
    {
     "name": "stdin",
     "output_type": "stream",
     "text": [
      "Enter a number:  10\n"
     ]
    },
    {
     "name": "stdout",
     "output_type": "stream",
     "text": [
      "You have entered 10\n",
      "The number of digit of 10 is 2\n"
     ]
    }
   ],
   "source": [
    "num = abs(int(input(\"Enter a number: \")))\n",
    "print(f\"You have entered {num}\")\n",
    "org_num = num\n",
    "count = 0\n",
    "if num == 0:\n",
    "    count = 1\n",
    "else:\n",
    "    while num>0:\n",
    "        num//=10\n",
    "        count +=1\n",
    "print(f\"The number of digit of {org_num} is {count}\")"
   ]
  },
  {
   "cell_type": "markdown",
   "id": "621e8c0a-f326-4b9b-908c-1947ce41bf25",
   "metadata": {},
   "source": [
    "### 24. Fibonacci Sequence: Write a Python program using a for loop to generate the Fibonacci sequence up to a given limit N."
   ]
  },
  {
   "cell_type": "code",
   "execution_count": 5,
   "id": "51f83c77-722d-4e3f-8420-6a6f16b1555c",
   "metadata": {},
   "outputs": [
    {
     "name": "stdin",
     "output_type": "stream",
     "text": [
      "Enter a number:  10\n"
     ]
    },
    {
     "name": "stdout",
     "output_type": "stream",
     "text": [
      "0 1 1 2 3 5 8 13 21 34 "
     ]
    }
   ],
   "source": [
    "n = int(input(\"Enter a number: \"))\n",
    "a, b = 0,1\n",
    "count = 0\n",
    "if n <= 0: \n",
    "    print(\"Enter a positive number.\")\n",
    "if n==1 :\n",
    "    print(\"You have to enter more than one term.\")\n",
    "else:\n",
    "    while count < n:\n",
    "        print(a, end = \" \")\n",
    "        a,b = b, a+b\n",
    "        count += 1\n",
    "        "
   ]
  },
  {
   "cell_type": "markdown",
   "id": "b3b03c2e-5746-4fbb-80c9-2e9729fd1bb0",
   "metadata": {},
   "source": [
    "### 25. Sum of Even Numbers: Write a Python program using a while loop to calculate the sum of all even numbers between 1 and N, where N is taken as input from the user."
   ]
  },
  {
   "cell_type": "code",
   "execution_count": 6,
   "id": "cc0f5122-2b50-420c-99ee-7b6c2c40dea5",
   "metadata": {},
   "outputs": [
    {
     "name": "stdin",
     "output_type": "stream",
     "text": [
      "Enter the limit:  10\n"
     ]
    },
    {
     "name": "stdout",
     "output_type": "stream",
     "text": [
      "Sum of even number between 1 to 10 is: 30\n"
     ]
    }
   ],
   "source": [
    "n = int(input(\"Enter the limit: \"))\n",
    "i = 2\n",
    "total = 0\n",
    "\n",
    "while i <= n:\n",
    "    total += i\n",
    "    i += 2\n",
    "    \n",
    "print(f\"Sum of even number between 1 to {n} is: {total}\")\n"
   ]
  },
  {
   "cell_type": "markdown",
   "id": "f5c29bb5-d6ea-4630-9e93-1fd5d778fd01",
   "metadata": {},
   "source": [
    "### 26. Print Patterns: Write a Python program using nested for loops to print various patterns, such as a right-angled triangle, an inverted right-angled triangle, and so on."
   ]
  },
  {
   "cell_type": "code",
   "execution_count": 7,
   "id": "0bda0ca5-88e0-4de0-9e1f-3d356c74c050",
   "metadata": {},
   "outputs": [
    {
     "name": "stdout",
     "output_type": "stream",
     "text": [
      "* \n",
      "* * \n",
      "* * * \n",
      "* * * * \n",
      "* * * * * \n"
     ]
    }
   ],
   "source": [
    "row = 5\n",
    "for i in range(1, row+1):\n",
    "    for j in range(i):\n",
    "        print(\"*\", end = \" \")\n",
    "    print()"
   ]
  },
  {
   "cell_type": "code",
   "execution_count": 8,
   "id": "8b9990c6-e1e5-4a9e-b3e5-b480c1aa15bf",
   "metadata": {},
   "outputs": [
    {
     "name": "stdout",
     "output_type": "stream",
     "text": [
      "* * * * * \n",
      "* * * * \n",
      "* * * \n",
      "* * \n",
      "* \n"
     ]
    }
   ],
   "source": [
    "row = 5\n",
    "for i in range(row,0,-1):\n",
    "    for j in range(i):\n",
    "        print(\"*\", end = \" \")\n",
    "    print()"
   ]
  },
  {
   "cell_type": "code",
   "execution_count": 9,
   "id": "84680b91-ea7b-49d2-8c42-b640996371e7",
   "metadata": {},
   "outputs": [
    {
     "name": "stdout",
     "output_type": "stream",
     "text": [
      "    *\n",
      "   ***\n",
      "  *****\n",
      " *******\n",
      "*********\n"
     ]
    }
   ],
   "source": [
    "row  = 5\n",
    "for i in range(1,row+1):\n",
    "    print(\" \"* (row-i) + \"*\" * (2*i -1))"
   ]
  },
  {
   "cell_type": "code",
   "execution_count": 10,
   "id": "f61bad96-5b3d-46ed-a9c1-8d647348f9bc",
   "metadata": {},
   "outputs": [
    {
     "name": "stdout",
     "output_type": "stream",
     "text": [
      "*********\n",
      " *******\n",
      "  *****\n",
      "   ***\n",
      "    *\n"
     ]
    }
   ],
   "source": [
    "row  = 5\n",
    "for i in range(row,0,-1):\n",
    "    print(\" \"* (row-i) + \"*\" * (2*i -1))"
   ]
  },
  {
   "cell_type": "code",
   "execution_count": 11,
   "id": "9bee1b86-e464-4a96-8f80-55bae5294ab5",
   "metadata": {},
   "outputs": [
    {
     "name": "stdout",
     "output_type": "stream",
     "text": [
      "    *\n",
      "   ***\n",
      "  *****\n",
      " *******\n",
      "*********\n",
      "*********\n",
      " *******\n",
      "  *****\n",
      "   ***\n",
      "    *\n"
     ]
    }
   ],
   "source": [
    "row  = 5\n",
    "for i in range(1,row+1):\n",
    "    print(\" \"* (row-i) + \"*\" * (2*i -1))\n",
    "row  = 5\n",
    "for i in range(row,0,-1):\n",
    "    print(\" \"* (row-i) + \"*\" * (2*i -1))"
   ]
  },
  {
   "cell_type": "markdown",
   "id": "5b60c038-fe64-4e22-a979-f944209d2ef5",
   "metadata": {},
   "source": [
    "### 27. Prime Number Checker: Write a Python program using a while loop to check if a given number N is prime or not."
   ]
  },
  {
   "cell_type": "code",
   "execution_count": null,
   "id": "e53589c2-a0da-433b-9a26-4fb3488c2b5a",
   "metadata": {},
   "outputs": [],
   "source": []
  },
  {
   "cell_type": "markdown",
   "id": "47841dfd-c860-4e12-b519-0162402d9fdf",
   "metadata": {},
   "source": [
    "### 28. List Manipulation: Given a list of integers, write a Python program using a for loop to find the sum, average, maximum, and minimum values in the list."
   ]
  },
  {
   "cell_type": "code",
   "execution_count": 12,
   "id": "d2c51937-f114-4f99-af8f-cf60ad618e2a",
   "metadata": {},
   "outputs": [
    {
     "name": "stdout",
     "output_type": "stream",
     "text": [
      "Sum of the list: 30\n",
      "Average of the list: 6.0\n",
      "Maximum value of this list: 10\n",
      "Minimum value of this list: 3\n"
     ]
    }
   ],
   "source": [
    "#num_list = list(map(int,input(\"Enter a list of numbers separating with space: \").split()))\n",
    "num_list = [ 5, 4, 8, 3, 10]\n",
    "maximum = num_list[0]\n",
    "minimum = num_list[0]\n",
    "total = 0\n",
    "for num in num_list:\n",
    "    total += num\n",
    "\n",
    "    if num > maximum:\n",
    "        maximum = num\n",
    "    if num < minimum:\n",
    "        minimum = num \n",
    "average = total / len(num_list)\n",
    "print(f\"Sum of the list: {total}\\nAverage of the list: {average}\\nMaximum value of this list: {maximum}\\nMinimum value of this list: {minimum}\")"
   ]
  },
  {
   "cell_type": "markdown",
   "id": "dd765cb4-77f9-416f-bcb2-e7b6d82edd39",
   "metadata": {},
   "source": [
    "### 29. Reverse String: Write a Python program using a while loop to reverse a given string."
   ]
  },
  {
   "cell_type": "code",
   "execution_count": 14,
   "id": "b9641d71-8a9b-48b8-af21-8180a9e6bcc6",
   "metadata": {},
   "outputs": [
    {
     "name": "stdout",
     "output_type": "stream",
     "text": [
      "idehem\n"
     ]
    }
   ],
   "source": [
    "name = \"mehedi\"\n",
    "i = len(name)-1 #5 which is the last index of name\n",
    "reverse = '' \n",
    "while i >= 0: # 5 to zero\n",
    "    reverse +=name[i]\n",
    "    i -= 1\n",
    "print(reverse)"
   ]
  }
 ],
 "metadata": {
  "kernelspec": {
   "display_name": "Python 3 (ipykernel)",
   "language": "python",
   "name": "python3"
  },
  "language_info": {
   "codemirror_mode": {
    "name": "ipython",
    "version": 3
   },
   "file_extension": ".py",
   "mimetype": "text/x-python",
   "name": "python",
   "nbconvert_exporter": "python",
   "pygments_lexer": "ipython3",
   "version": "3.13.5"
  }
 },
 "nbformat": 4,
 "nbformat_minor": 5
}
