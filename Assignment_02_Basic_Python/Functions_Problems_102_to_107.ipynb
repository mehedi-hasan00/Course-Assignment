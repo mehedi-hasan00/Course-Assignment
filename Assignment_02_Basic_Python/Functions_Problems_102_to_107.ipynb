{
 "cells": [
  {
   "cell_type": "markdown",
   "id": "b9fd8f73-bd74-4ed8-91a5-bffdc6cc3d68",
   "metadata": {},
   "source": [
    "# Functions Problems(102 to 107):"
   ]
  },
  {
   "cell_type": "markdown",
   "id": "828721e1-e223-4a69-8fa5-32c435bd0263",
   "metadata": {},
   "source": [
    "### 102. Factorial Calculator: Write a Python function called `factorial` that takes an integer as input and returns its factorial. Test the function with different values."
   ]
  },
  {
   "cell_type": "code",
   "execution_count": 11,
   "id": "9570e1a5-c795-4287-a6b9-047cf01686aa",
   "metadata": {},
   "outputs": [
    {
     "name": "stdout",
     "output_type": "stream",
     "text": [
      "1\n",
      "1\n",
      "3628800\n",
      "5040\n"
     ]
    }
   ],
   "source": [
    "def factorial(value):\n",
    "    fact = 1\n",
    "    for i in range(value,0,-1):\n",
    "        fact *= i\n",
    "    return fact\n",
    "print(factorial(0))\n",
    "print(factorial(1))\n",
    "print(factorial(10))\n",
    "print(factorial(7))"
   ]
  },
  {
   "cell_type": "markdown",
   "id": "ab5894a1-5fdb-4a49-9301-0cbf3a04be0e",
   "metadata": {},
   "source": [
    "### 103. Palindrome Checker: Write a Python function called `is_palindrome` that takes a string as input and returns `True` if it is a palindrome and `False` otherwise. Test the function with different words."
   ]
  },
  {
   "cell_type": "code",
   "execution_count": 13,
   "id": "12b17866-0865-443b-b703-45a6c32a927a",
   "metadata": {},
   "outputs": [
    {
     "name": "stdout",
     "output_type": "stream",
     "text": [
      "False\n",
      "False\n",
      "True\n",
      "True\n"
     ]
    }
   ],
   "source": [
    "def is_palindrome(word):\n",
    "    word = word.lower()\n",
    "    return word == word[::-1]\n",
    "print(is_palindrome(\"Mehedi\"))\n",
    "print(is_palindrome(\"hello\"))\n",
    "print(is_palindrome(\"level\"))\n",
    "print(is_palindrome(\"Lol\"))"
   ]
  },
  {
   "cell_type": "markdown",
   "id": "bec51bcd-02dc-48a4-86cb-86c457e4d892",
   "metadata": {},
   "source": [
    "### 104. Even or Odd Checker: Write a Python function called `even_or_odd` that takes an integer as input and returns “Even” if the number is even and “Odd” if the number is odd. Test the function with different numbers."
   ]
  },
  {
   "cell_type": "code",
   "execution_count": 17,
   "id": "9ee1d62e-3093-45cf-aa9f-7b47450221f8",
   "metadata": {},
   "outputs": [
    {
     "name": "stdout",
     "output_type": "stream",
     "text": [
      "Even\n",
      "Odd\n",
      "Even\n"
     ]
    }
   ],
   "source": [
    "def even_or_odd(value):\n",
    "    if value%2 ==0:\n",
    "        return \"Even\"\n",
    "    else:\n",
    "        return \"Odd\"\n",
    "print(even_or_odd(4))\n",
    "print(even_or_odd(1))\n",
    "print(even_or_odd(100012))"
   ]
  },
  {
   "cell_type": "markdown",
   "id": "81d5852b-b60a-4ccc-aa9d-65d7559847b4",
   "metadata": {},
   "source": [
    "### 105. List Sum Calculator: Write a Python function called `list_sum` that takes a list of integers as input and returns the sum of all elements in the list. Test the function with different lists."
   ]
  },
  {
   "cell_type": "code",
   "execution_count": 21,
   "id": "c2df5a4e-5468-42b7-9e0d-62a7201ac3b6",
   "metadata": {},
   "outputs": [
    {
     "name": "stdout",
     "output_type": "stream",
     "text": [
      "15\n",
      "-4\n",
      "105\n"
     ]
    }
   ],
   "source": [
    "def list_sum(values):\n",
    "    total = 0\n",
    "    for i in values:\n",
    "        total += i\n",
    "    return total\n",
    "print(list_sum([1,2,3,4,5]))\n",
    "print(list_sum([-1,2,0,-10,5]))\n",
    "print(list_sum([11,2,3,3,77,4,5]))"
   ]
  },
  {
   "cell_type": "markdown",
   "id": "04b52e43-ed1f-40e3-addb-f0388074ede4",
   "metadata": {},
   "source": [
    "### 106. Greatest Common Divisor (GCD) Calculator: Write a Python function called `gcd` that takes two integers as input and returns their greatest common divisor. Test the function with different pairs of numbers."
   ]
  },
  {
   "cell_type": "code",
   "execution_count": 28,
   "id": "f1244738-a29c-4077-b3d1-731515344cec",
   "metadata": {},
   "outputs": [
    {
     "name": "stdout",
     "output_type": "stream",
     "text": [
      "6\n"
     ]
    }
   ],
   "source": [
    "def gcd(int1,int2):\n",
    "    for i in range(1,min(int1,int2)+1):\n",
    "        if int1 % i == 0 and int2 % i ==0:\n",
    "            gcd_value = i\n",
    "    return gcd_value\n",
    "print(gcd(12,6))\n",
    "            \n",
    "    "
   ]
  },
  {
   "cell_type": "markdown",
   "id": "17ddac2f-afc1-4432-b5bd-61b401c54cf2",
   "metadata": {},
   "source": [
    "### 107. Leap Year Checker: Write a Python function called `is_leap_year` that takes a year as input and returns `True` if it is a leap year and `False` otherwise. Test the function with different years."
   ]
  },
  {
   "cell_type": "code",
   "execution_count": 34,
   "id": "8451db3b-7a09-48e7-ae86-adeca6ac801e",
   "metadata": {},
   "outputs": [
    {
     "name": "stdout",
     "output_type": "stream",
     "text": [
      "False\n",
      "False\n",
      "True\n",
      "True\n"
     ]
    }
   ],
   "source": [
    "def is_leap_year(year):\n",
    "    if year % 400 == 0:\n",
    "        return True\n",
    "    elif year % 100 == 0:\n",
    "        return False\n",
    "    elif year % 4 == 0:\n",
    "        return True\n",
    "    else:\n",
    "        return False\n",
    "print(is_leap_year(1000))\n",
    "print(is_leap_year(1769))\n",
    "print(is_leap_year(2000))\n",
    "print(is_leap_year(1996))\n",
    "            "
   ]
  },
  {
   "cell_type": "code",
   "execution_count": null,
   "id": "e680310e-9ba5-4286-bd55-56665efa6b41",
   "metadata": {},
   "outputs": [],
   "source": []
  }
 ],
 "metadata": {
  "kernelspec": {
   "display_name": "Python 3 (ipykernel)",
   "language": "python",
   "name": "python3"
  },
  "language_info": {
   "codemirror_mode": {
    "name": "ipython",
    "version": 3
   },
   "file_extension": ".py",
   "mimetype": "text/x-python",
   "name": "python",
   "nbconvert_exporter": "python",
   "pygments_lexer": "ipython3",
   "version": "3.13.5"
  }
 },
 "nbformat": 4,
 "nbformat_minor": 5
}
