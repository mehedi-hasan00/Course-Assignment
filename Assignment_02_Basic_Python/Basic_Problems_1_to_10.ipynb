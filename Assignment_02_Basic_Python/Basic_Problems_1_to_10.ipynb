{
 "cells": [
  {
   "cell_type": "markdown",
   "id": "e33d858e-d94e-4a86-8bb4-df89aed7a393",
   "metadata": {},
   "source": [
    "# Basic Problems(1 to 10):"
   ]
  },
  {
   "cell_type": "markdown",
   "id": "ee5b045a-93c2-480f-a3c3-ff7f74c699b7",
   "metadata": {},
   "source": [
    "### 1. Variable Swap: Write a Python program to swap the values of two variables without using a temporary variable."
   ]
  },
  {
   "cell_type": "code",
   "execution_count": 1,
   "id": "82d2b8f6-1d4f-4ea1-930d-8bb5f1739f84",
   "metadata": {},
   "outputs": [
    {
     "name": "stdout",
     "output_type": "stream",
     "text": [
      "Before swap a = 10 and b = 15\n",
      "After swap a = 15 and b = 10\n"
     ]
    }
   ],
   "source": [
    "a = 10\n",
    "b = 15\n",
    "print(f\"Before swap a = {a} and b = {b}\")\n",
    "\n",
    "a,b = b,a\n",
    "print(f\"After swap a = {a} and b = {b}\")\n"
   ]
  },
  {
   "cell_type": "markdown",
   "id": "c1029bf3-8b7a-4616-b7b3-1090edc67ba3",
   "metadata": {},
   "source": [
    "### 2. Even or Odd: Write a Python program that takes an integer as input and prints whether it is even or odd."
   ]
  },
  {
   "cell_type": "code",
   "execution_count": 2,
   "id": "3046f1f7-6fa7-40bc-93cb-2411ff9077dc",
   "metadata": {},
   "outputs": [
    {
     "name": "stdout",
     "output_type": "stream",
     "text": [
      "11 is a Odd Number\n"
     ]
    }
   ],
   "source": [
    "number = 11\n",
    "\n",
    "if number % 2 == 0:\n",
    "    print(f\"{number} is a Even Number\")\n",
    "    \n",
    "else:\n",
    "    print(f\"{number} is a Odd Number\")\n",
    "    "
   ]
  },
  {
   "cell_type": "markdown",
   "id": "badfc348-7185-456a-acde-66e8701e7cd0",
   "metadata": {},
   "source": [
    "### 3. String Reverse: Write a Python function to reverse a given string and return the reversed string."
   ]
  },
  {
   "cell_type": "code",
   "execution_count": 3,
   "id": "85a6ac1a-8535-4375-95aa-fd32888d0bb2",
   "metadata": {},
   "outputs": [
    {
     "name": "stdout",
     "output_type": "stream",
     "text": [
      "Given String: mehedi\n",
      "Reversed String: idehem\n"
     ]
    }
   ],
   "source": [
    "given_str = \"mehedi\"\n",
    "#reversed_str = ''.join(reversed(given_str))\n",
    "reversed_str = given_str[ : : -1]\n",
    "print(f\"Given String: {given_str}\")\n",
    "print(f\"Reversed String: {reversed_str}\")"
   ]
  },
  {
   "cell_type": "markdown",
   "id": "7bad3813-6e63-443d-8aa8-201321876929",
   "metadata": {},
   "source": [
    "### 4. Type Conversion: Given a list of integers, write a Python program to convert each element of the list to a string."
   ]
  },
  {
   "cell_type": "code",
   "execution_count": 4,
   "id": "5d137ceb-8988-442d-b24e-84833ec78964",
   "metadata": {},
   "outputs": [
    {
     "name": "stdout",
     "output_type": "stream",
     "text": [
      "['10', '20', '30', '40']\n"
     ]
    }
   ],
   "source": [
    "given_list = [10, 20, 30, 40]\n",
    "convert_str = map(str,given_list)\n",
    "print(list(convert_str))"
   ]
  },
  {
   "cell_type": "code",
   "execution_count": 5,
   "id": "93b21141-72cb-4d6c-b55d-561c22f89da0",
   "metadata": {},
   "outputs": [
    {
     "name": "stdout",
     "output_type": "stream",
     "text": [
      "[10, 20, 30, 40]\n"
     ]
    }
   ],
   "source": [
    "given_list = [10, 20, 30, 40]\n",
    "convert_str =str(given_list)\n",
    "print(convert_str)"
   ]
  },
  {
   "cell_type": "markdown",
   "id": "23b573c9-49f0-4dba-a0f7-dfd6f0164372",
   "metadata": {},
   "source": [
    "### 5. Temperature Converter: Write a Python program that converts a temperature in Celsius to Fahrenheit. Take the Celsius temperature as input from the user."
   ]
  },
  {
   "cell_type": "code",
   "execution_count": null,
   "id": "06bed20f-c514-40dc-b93d-986dc1451dcc",
   "metadata": {},
   "outputs": [],
   "source": [
    "celsius = float(input(\"Enter the temperature in Celsius: \"))\n",
    "\n",
    "print(f\"The temperature in Celsius is: {celsius}°C\")\n",
    "\n",
    "fahrenheit = (celsius * 9/5) + 32\n",
    "\n",
    "print(f\"The temperature in Fahrenheit is: {fahrenheit}°F\")\n"
   ]
  },
  {
   "cell_type": "markdown",
   "id": "9496e592-922c-464c-b730-1e93b3c1c589",
   "metadata": {},
   "source": [
    "### 6. Data Type Checker: Write a Python function that takes a variable as input and returns the data type of the variable as a string (e.g., “int”, “float”, “str”, “list”, etc.)."
   ]
  },
  {
   "cell_type": "code",
   "execution_count": null,
   "id": "e03d94dc-1ffe-4194-a5f3-6d3f90a511da",
   "metadata": {},
   "outputs": [],
   "source": [
    "def data_type_checker(var):\n",
    "    return type(var).__name__\n",
    "print(data_type_checker(\"Name\"))\n",
    "print(data_type_checker(12))\n",
    "print(data_type_checker(\"12\"))\n",
    "print(data_type_checker(12.5))\n",
    "print(data_type_checker({1,2,3}))\n",
    "print(data_type_checker((1,2,3)))\n",
    "print(data_type_checker([1,2,3]))\n",
    "print(data_type_checker({\"A\": 2, \"B\": 3}))\n",
    "\n"
   ]
  },
  {
   "cell_type": "markdown",
   "id": "19845154-1fe0-40dc-b615-543b3d732383",
   "metadata": {},
   "source": [
    "### 7. String Palindrome: Write a Python function to check if a given string is a palindrome or not."
   ]
  },
  {
   "cell_type": "code",
   "execution_count": null,
   "id": "49662cb8-ed29-47af-a1ab-ff3215aa73b3",
   "metadata": {},
   "outputs": [],
   "source": [
    "given_number = 1222\n",
    "in_string = str(given_number)\n",
    "reversed_number = reversed_number[::-1]\n",
    "if reversed_number==in_string:\n",
    "    print(f\"Yes, {given_number} is a Palindrome Number.\")\n",
    "else:\n",
    "    print(f\"No, {given_number} is not a Palindrome Number.\")"
   ]
  },
  {
   "cell_type": "code",
   "execution_count": null,
   "id": "a84cd528-7329-49c0-a990-1bd21574d86b",
   "metadata": {},
   "outputs": [],
   "source": [
    "def is_palindrome(number):\n",
    "    str_num = str(number)\n",
    "    if str_num == str_num[::-1]:\n",
    "        print(f\"Yes, {number} is a Palindrome Number.\")\n",
    "    else:\n",
    "        print(f\"No, {number} is not a Palindrome Number.\")\n",
    "is_palindrome(123)\n",
    "is_palindrome(121)"
   ]
  },
  {
   "cell_type": "markdown",
   "id": "65ed9543-f1b3-4f9d-ac84-9ba58ed089b4",
   "metadata": {},
   "source": [
    "### 8. String Reversal with Slicing: Write a Python function to reverse a given string using slicing."
   ]
  },
  {
   "cell_type": "code",
   "execution_count": null,
   "id": "7acd213a-21ba-4eee-b82f-87fa282a9817",
   "metadata": {},
   "outputs": [],
   "source": [
    "def reversed_str(word):\n",
    "    return word[::-1]\n",
    "word = \"mehedi\"\n",
    "result = reversed_str(word)\n",
    "print(f\"The given word is: {word}\")\n",
    "print(f\"The reversed word is: {result}\")"
   ]
  },
  {
   "cell_type": "markdown",
   "id": "1b4aa2c9-c6ee-4096-b766-58775fce6288",
   "metadata": {},
   "source": [
    "### 9. String Concatenation: Write a Python program that takes two strings as input and concatenates them into a single string without using the `+` operator."
   ]
  },
  {
   "cell_type": "code",
   "execution_count": null,
   "id": "a6d48712-4a7d-48ba-b9f9-8ee37313191e",
   "metadata": {},
   "outputs": [],
   "source": [
    "word1 = \"Mehedi\"\n",
    "word2 = \"Hasan\"\n",
    "print(f\"{word1}{word2}\")"
   ]
  },
  {
   "cell_type": "markdown",
   "id": "7afdc0d5-d5a8-434c-874c-9e6688cd6f53",
   "metadata": {},
   "source": [
    "\n",
    "### 10. Typecasting Challenge: Given three variables: `a = ‘100’`, `b = 25`, and `c = ‘10.5’`, write a Python program to perform the following operations and print the results: – Convert `a` to an integer and add it to `b`. – Convert `c` to a float and subtract it from the result of the first operation. – Convert the final result to a string and concatenate it with the string ” is the answer.”"
   ]
  },
  {
   "cell_type": "code",
   "execution_count": null,
   "id": "4bcc4e05-704e-4601-925e-0894049ad7f0",
   "metadata": {},
   "outputs": [],
   "source": [
    "a = '100'\n",
    "b = 25\n",
    "c = '10.5'\n",
    "d = int(a) + b -float(c)\n",
    "d = str(d)\n",
    "print(d,\"is the answer\")"
   ]
  },
  {
   "cell_type": "code",
   "execution_count": null,
   "id": "2d5bc629-1062-4632-b2b7-ffa0918015e0",
   "metadata": {},
   "outputs": [],
   "source": []
  }
 ],
 "metadata": {
  "kernelspec": {
   "display_name": "Python 3 (ipykernel)",
   "language": "python",
   "name": "python3"
  },
  "language_info": {
   "codemirror_mode": {
    "name": "ipython",
    "version": 3
   },
   "file_extension": ".py",
   "mimetype": "text/x-python",
   "name": "python",
   "nbconvert_exporter": "python",
   "pygments_lexer": "ipython3",
   "version": "3.13.5"
  }
 },
 "nbformat": 4,
 "nbformat_minor": 5
}
