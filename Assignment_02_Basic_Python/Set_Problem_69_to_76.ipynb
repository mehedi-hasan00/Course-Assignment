{
 "cells": [
  {
   "cell_type": "markdown",
   "id": "551440de-6d4e-4152-b49d-851b19896f4e",
   "metadata": {},
   "source": [
    "# Set Problems(69 to 76):"
   ]
  },
  {
   "cell_type": "markdown",
   "id": "fb8e7f89-8efa-467b-bd6f-4c84988e3d78",
   "metadata": {},
   "source": [
    "### 69. Duplicate Removal: Write a Python program that takes a list of elements as input and creates a new set containing only the unique elements from the list."
   ]
  },
  {
   "cell_type": "markdown",
   "id": "3c8a22c9-55b3-41b2-871b-ede4dd3e48ed",
   "metadata": {},
   "source": [
    "l = [ 1,2,3,4,5,6,7,8,9,3,2,1,3,5,1,10,21,50]\n",
    "new_list = list(dict.fromkeys(l))\n",
    "print(set(new_list))"
   ]
  },
  {
   "cell_type": "markdown",
   "id": "375c969d-2491-4a02-8319-b43599149fab",
   "metadata": {},
   "source": [
    "### 70. Set Intersection: Given two sets A and B, write a Python program to find their intersection and print the common elements."
   ]
  },
  {
   "cell_type": "code",
   "execution_count": 7,
   "id": "114f7b03-90a8-43c2-8007-5014b9235ec3",
   "metadata": {},
   "outputs": [
    {
     "name": "stdout",
     "output_type": "stream",
     "text": [
      "The intersection of A and B: {4, 5}\n"
     ]
    }
   ],
   "source": [
    "A = {1,2,3,4,5}\n",
    "B = {4,5,6,7,8}\n",
    "C = A & B     #C = A.intersectiion(B)\n",
    "print(f\"The Intersection of A and B: {C}\")"
   ]
  },
  {
   "cell_type": "markdown",
   "id": "2b236ccf-2f94-4aa0-9b6a-70347e6c2b91",
   "metadata": {},
   "source": [
    "### 71. Set Union: Given two sets A and B, write a Python program to find their union and print all the distinct elements from both sets."
   ]
  },
  {
   "cell_type": "code",
   "execution_count": 8,
   "id": "f0962f29-aaf0-4045-ad51-96985e8b8f97",
   "metadata": {},
   "outputs": [
    {
     "name": "stdout",
     "output_type": "stream",
     "text": [
      "The Union of A and B: {1, 2, 3, 4, 5, 6, 7, 8}\n"
     ]
    }
   ],
   "source": [
    "A = {1,2,3,4,5}\n",
    "B = {4,5,6,7,8}\n",
    "C = A | B      #C = A.union(B)\n",
    "print(f\"The Union of A and B: {C}\")"
   ]
  },
  {
   "cell_type": "markdown",
   "id": "00227e78-4e1a-4cd2-94be-0ffb5d5202b3",
   "metadata": {},
   "source": [
    "### 72. Set Difference: Given two sets A and B, write a Python program to find the difference between set A and set B (i.e., elements present in A but not in B) and print the result."
   ]
  },
  {
   "cell_type": "code",
   "execution_count": 12,
   "id": "bc814f55-7a5b-4295-a2a5-9bb5610d3bd7",
   "metadata": {},
   "outputs": [
    {
     "name": "stdout",
     "output_type": "stream",
     "text": [
      "The Difference (A - B): {1, 2, 3}\n"
     ]
    }
   ],
   "source": [
    "A = {1,2,3,4,5}\n",
    "B = {4,5,6,7,8}\n",
    "C = A - B # C = A.difference(B)\n",
    "print(f\"The Difference (A - B): {C}\")"
   ]
  },
  {
   "cell_type": "code",
   "execution_count": 13,
   "id": "b4bfccfc-6a6c-4d7c-aeed-14e67e142955",
   "metadata": {},
   "outputs": [
    {
     "name": "stdout",
     "output_type": "stream",
     "text": [
      "The Difference (B - A): {8, 6, 7}\n"
     ]
    }
   ],
   "source": [
    "A = {1,2,3,4,5}\n",
    "B = {4,5,6,7,8}\n",
    "C = B - A\n",
    "print(f\"The Difference (B - A): {C}\")"
   ]
  },
  {
   "cell_type": "markdown",
   "id": "c933d8b9-5567-48fc-b742-822b3edc659b",
   "metadata": {},
   "source": [
    "### 73. Set Symmetric Difference: Given two sets A and B, write a Python program to find the symmetric difference between the two sets (i.e., elements that are present in either set A or set B, but not in both) and print the result."
   ]
  },
  {
   "cell_type": "code",
   "execution_count": 19,
   "id": "5a87e42a-6e6e-4d06-9759-cb7efc9e76bd",
   "metadata": {},
   "outputs": [
    {
     "name": "stdout",
     "output_type": "stream",
     "text": [
      "The Symmetric Difference of A and B: {1, 2, 3, 6, 7, 8}\n"
     ]
    }
   ],
   "source": [
    "A = {1,2,3,4,5}\n",
    "B = {4,5,6,7,8}\n",
    "C = A ^ B    #C = A.symmetric_difference(B)\n",
    "print(f\"The Symmetric Difference of A and B: {C}\")"
   ]
  },
  {
   "cell_type": "markdown",
   "id": "c0601067-299e-47e6-b4ce-fba1e4573c61",
   "metadata": {},
   "source": [
    "### 74. Set Operations: Given three sets A, B, and C, write a Python program to find and print the intersection of A and B, the union of B and C, and the difference between C and A."
   ]
  },
  {
   "cell_type": "code",
   "execution_count": 26,
   "id": "3fb95782-cab4-4d0b-b034-c067f1e89a1f",
   "metadata": {},
   "outputs": [
    {
     "name": "stdout",
     "output_type": "stream",
     "text": [
      "The Intersection of A and B is: {4, 5}\n",
      "The Union of B and C is: {3, 4, 5, 6, 7, 8, 9, 10}\n",
      "The Difference between C and A is: {9, 10}\n"
     ]
    }
   ],
   "source": [
    "A = {1,2,3,4,5}\n",
    "B = {4,5,6,7,8}\n",
    "C = {9,10,5,3}\n",
    "print(\"The Intersection of A and B is:\", A & B)\n",
    "print(\"The Union of B and C is:\", B | C)\n",
    "print(\"The Difference between C and A is:\", C - A)"
   ]
  },
  {
   "cell_type": "markdown",
   "id": "0f95bf5c-e4e3-4582-b0ae-029840e236cd",
   "metadata": {},
   "source": [
    "### 75. Set Subset Check: Given two sets A and B, write a Python program to check if set A is a subset of set B and print the result."
   ]
  },
  {
   "cell_type": "code",
   "execution_count": 28,
   "id": "349d38af-7879-42e4-b23d-2d173b3fa128",
   "metadata": {},
   "outputs": [
    {
     "name": "stdout",
     "output_type": "stream",
     "text": [
      "B is a subset of A\n"
     ]
    }
   ],
   "source": [
    "A = {1,2,3,4,5}\n",
    "B = {1,2,3}\n",
    "if B.issubset(A):\n",
    "    print(\"B is a subset of A\")\n",
    "else:\n",
    "    print(\"B is not a subset of B\")"
   ]
  },
  {
   "cell_type": "markdown",
   "id": "5530a65e-d6f4-470f-b4bb-d9749a70cd07",
   "metadata": {},
   "source": [
    "### 76. Set Superset Check: Given two sets A and B, write a Python program to check if set A is a superset of set B and print the result."
   ]
  },
  {
   "cell_type": "code",
   "execution_count": 31,
   "id": "8e1ae9db-588a-4a20-b27d-526a6c9efff7",
   "metadata": {},
   "outputs": [
    {
     "name": "stdout",
     "output_type": "stream",
     "text": [
      "A is a superset of B\n"
     ]
    }
   ],
   "source": [
    "A = {1,2,3,4,5}\n",
    "B = {1,2,3}\n",
    "if A.issuperset(B):\n",
    "    print(\"A is a superset of B\")\n",
    "else:\n",
    "    print(\"A is not a superset of B\")"
   ]
  },
  {
   "cell_type": "markdown",
   "id": "e8ea49ea-0321-417d-8f09-2f019f2db52b",
   "metadata": {},
   "source": [
    "### 77. Set Length Check: Write a Python program that takes a set as input and prints the number of elements in the set."
   ]
  },
  {
   "cell_type": "code",
   "execution_count": 45,
   "id": "b546abf0-c0de-41f0-b224-69614fba9d3f",
   "metadata": {},
   "outputs": [
    {
     "name": "stdin",
     "output_type": "stream",
     "text": [
      "Enter the element of the set(separate by commas):  1,2,3\n"
     ]
    },
    {
     "name": "stdout",
     "output_type": "stream",
     "text": [
      "Entered set:  {'2', '1', '3'}\n",
      "Length of list is: 3\n"
     ]
    }
   ],
   "source": [
    "user_input =input(\"Enter the element of the set(separate by commas): \")\n",
    "A = set(user_input.split(\",\"))\n",
    "A = {item.strip() for item in A}\n",
    "print(\"Entered set: \",A)\n",
    "\n",
    "x = len(A)\n",
    "print(f\"Length of list is: {x}\")"
   ]
  },
  {
   "cell_type": "code",
   "execution_count": 42,
   "id": "ecf5af90-3c97-44a1-bf47-2e05e6dab34d",
   "metadata": {},
   "outputs": [
    {
     "name": "stdout",
     "output_type": "stream",
     "text": [
      "5\n"
     ]
    }
   ],
   "source": [
    "A = {1,2,3,4,5}\n",
    "print(len(A))"
   ]
  },
  {
   "cell_type": "markdown",
   "id": "2aa5b635-3c4e-47d6-a6bd-4ef4fffba173",
   "metadata": {},
   "source": [
    "### 76. Set Membership Test: Write a Python program that takes an element as input and checks if it exists in a given set. Print “Found” if the element is present and “Not Found” otherwise."
   ]
  },
  {
   "cell_type": "code",
   "execution_count": 46,
   "id": "2eace643-5591-44a7-82c3-51b2a74891cc",
   "metadata": {},
   "outputs": [
    {
     "name": "stdin",
     "output_type": "stream",
     "text": [
      "Enter a element:  2\n"
     ]
    },
    {
     "name": "stdout",
     "output_type": "stream",
     "text": [
      "Found\n"
     ]
    }
   ],
   "source": [
    "A = {1,2,3,4,5}\n",
    "element = int(input(\"Enter a element: \"))\n",
    "if element in A:\n",
    "    print(\"Found\")\n",
    "else:\n",
    "    print(\"Not Found\")\n",
    "              "
   ]
  }
 ],
 "metadata": {
  "kernelspec": {
   "display_name": "Python 3 (ipykernel)",
   "language": "python",
   "name": "python3"
  },
  "language_info": {
   "codemirror_mode": {
    "name": "ipython",
    "version": 3
   },
   "file_extension": ".py",
   "mimetype": "text/x-python",
   "name": "python",
   "nbconvert_exporter": "python",
   "pygments_lexer": "ipython3",
   "version": "3.13.5"
  }
 },
 "nbformat": 4,
 "nbformat_minor": 5
}
