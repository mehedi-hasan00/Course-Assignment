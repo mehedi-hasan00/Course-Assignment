{
 "cells": [
  {
   "cell_type": "markdown",
   "id": "48194cde-bd6e-4705-a447-f770f0e18965",
   "metadata": {},
   "source": [
    "# Dictionary Problems(77 to 86):"
   ]
  },
  {
   "cell_type": "markdown",
   "id": "80892d06-f691-438e-9132-f1b3d3ee8574",
   "metadata": {},
   "source": [
    "### 77. Dictionary Manipulation: Given a dictionary with student names as keys and their corresponding scores as values, write a Python program to add a new student to the dictionary and update the score of an existing student."
   ]
  },
  {
   "cell_type": "code",
   "execution_count": 6,
   "id": "53058c27-8627-495c-9322-80f9c299b9ce",
   "metadata": {},
   "outputs": [
    {
     "name": "stdout",
     "output_type": "stream",
     "text": [
      "Original Student Scores\n",
      "{'Rahim': 80, 'Karim': 79, 'Jodu': 75}\n",
      "New Student Scores After Adding New Student Score.\n",
      "{'Rahim': 80, 'Karim': 79, 'Jodu': 75, 'Kodu': 77}\n",
      "After Updating Score. Updated Student Scores\n",
      "{'Rahim': 80, 'Karim': 80, 'Jodu': 75, 'Kodu': 77}\n"
     ]
    }
   ],
   "source": [
    "student_scores = {\n",
    "    \"Rahim\": 80,\n",
    "    \"Karim\": 79,\n",
    "    \"Jodu\" : 75\n",
    "}\n",
    "print(\"Original Student Scores\")\n",
    "print(student_scores)\n",
    "\n",
    "#new Student \n",
    "\n",
    "new_student_name = \"Kodu\"\n",
    "new_student_score = 77\n",
    "\n",
    "student_scores[new_student_name] = new_student_score\n",
    "\n",
    "print(\"Student Scores After Adding New Student Score.\")\n",
    "print(student_scores)\n",
    "\n",
    "#update student\n",
    "\n",
    "existing_student = \"Karim\"\n",
    "updated_score = 80\n",
    "\n",
    "student_scores[existing_student] = updated_score\n",
    "\n",
    "print(\"After Updating Score. Updated Student Scores\")\n",
    "print(student_scores)\n"
   ]
  },
  {
   "cell_type": "code",
   "execution_count": 15,
   "id": "0f4409d1-a97e-431e-8ef0-5d2dead6ac67",
   "metadata": {},
   "outputs": [
    {
     "name": "stdout",
     "output_type": "stream",
     "text": [
      "Original Student Scores\n",
      "{'Rahim': 80, 'Karim': 79, 'Jodu': 75}\n"
     ]
    },
    {
     "name": "stdin",
     "output_type": "stream",
     "text": [
      "Enetr a new student name:  mehedi\n",
      "Enter the score of Mehedi:  70\n"
     ]
    },
    {
     "name": "stdout",
     "output_type": "stream",
     "text": [
      "Student Scores After Adding New Student Score.\n",
      "{'Rahim': 80, 'Karim': 79, 'Jodu': 75, 'Mehedi': 70}\n"
     ]
    },
    {
     "name": "stdin",
     "output_type": "stream",
     "text": [
      "Want to Update the student score? (y/n):  n\n"
     ]
    },
    {
     "name": "stdout",
     "output_type": "stream",
     "text": [
      "New Student Scores\n",
      "{'Rahim': 80, 'Karim': 79, 'Jodu': 75, 'Mehedi': 70}\n"
     ]
    }
   ],
   "source": [
    "student_scores = {\n",
    "    \"Rahim\": 80,\n",
    "    \"Karim\": 79,\n",
    "    \"Jodu\" : 75\n",
    "}\n",
    "print(\"Original Student Scores\")\n",
    "print(student_scores)\n",
    "\n",
    "#new Student\n",
    "\n",
    "new_student_name = input(\"Enetr a new student name: \").capitalize()\n",
    "new_student_score = int(input(f\"Enter the score of {new_student_name}: \"))\n",
    "student_scores[new_student_name] = new_student_score\n",
    "\n",
    "print(\"Student Scores After Adding New Student Score.\")\n",
    "print(student_scores)\n",
    "\n",
    "#update student\n",
    "\n",
    "update_student_score = input(\"Want to Update the student score? (y/n): \").lower()\n",
    "\n",
    "if update_student_score == \"y\":\n",
    "    existing_student = input(\"Enter the student name: \").capitalize()\n",
    "    \n",
    "    if existing_student in student_scores:\n",
    "        updated_score = int(input(\"Enter the updated score: \"))\n",
    "        student_scores[existing_student] = updated_score\n",
    "        print(\"New and Updated Student Scores\")\n",
    "        print(student_scores)\n",
    "        \n",
    "    else:\n",
    "        print(\"Existing Student name didn't find\")\n",
    "        print(\"New Student Scores\")\n",
    "        print(student_scores)\n",
    "        \n",
    "else:\n",
    "    print(\"New Student Scores\")\n",
    "    print(student_scores)"
   ]
  },
  {
   "cell_type": "markdown",
   "id": "04fb89c7-1ea2-4d55-9f4b-2e504ae3d0a8",
   "metadata": {},
   "source": [
    "### 78. Dictionary Keys and Values: Write a Python program that takes a dictionary as input and prints all the keys and values in separate lines."
   ]
  },
  {
   "cell_type": "code",
   "execution_count": 26,
   "id": "76273136-fac1-4d1c-b5cb-6495a4a99e26",
   "metadata": {},
   "outputs": [
    {
     "name": "stdout",
     "output_type": "stream",
     "text": [
      "\n",
      "Dictionary Keys and Values\n",
      "\n",
      "Key: Rahim  Value: 80\n",
      "Key: Karim  Value: 79\n",
      "Key: Jodu  Value: 75\n"
     ]
    }
   ],
   "source": [
    "student_scores = {\n",
    "    \"Rahim\": 80,\n",
    "    \"Karim\": 79,\n",
    "    \"Jodu\" : 75\n",
    "}\n",
    "print('\\nDictionary Keys and Values\\n')\n",
    "for key,value in student_scores.items():\n",
    "    print(f\"Key: {key}  Value: {value}\")"
   ]
  },
  {
   "cell_type": "markdown",
   "id": "fc4b83f1-0ef9-4b8a-bc24-14468d872b98",
   "metadata": {},
   "source": [
    "### 79. Dictionary Length: Write a Python program to calculate and print the number of key-value pairs in a given dictionary."
   ]
  },
  {
   "cell_type": "code",
   "execution_count": 28,
   "id": "074479fb-1cdf-46c6-9d28-42df59c59266",
   "metadata": {},
   "outputs": [
    {
     "name": "stdout",
     "output_type": "stream",
     "text": [
      "The number of key-value pairs: 3\n"
     ]
    }
   ],
   "source": [
    "student_scores = {\n",
    "    \"Rahim\": 80,\n",
    "    \"Karim\": 79,\n",
    "    \"Jodu\" : 75\n",
    "}\n",
    "dict_len = len(student_scores)\n",
    "print(f\"The number of key-value pairs: {dict_len}\")"
   ]
  },
  {
   "cell_type": "markdown",
   "id": "fa49234d-3371-4c36-83c3-e9efdc7b3fe2",
   "metadata": {},
   "source": [
    "### 80. Dictionary Value Search: Given a dictionary of items and their prices, write a Python program to search for an item based on its price and print the item’s name."
   ]
  },
  {
   "cell_type": "code",
   "execution_count": 31,
   "id": "160bbd24-5160-4139-a578-2edff26019e0",
   "metadata": {},
   "outputs": [
    {
     "name": "stdin",
     "output_type": "stream",
     "text": [
      "Enter the price of the item:  300\n"
     ]
    },
    {
     "name": "stdout",
     "output_type": "stream",
     "text": [
      "Item not found.\n"
     ]
    }
   ],
   "source": [
    "item_price = {\n",
    "    \"Orange\" : 220,\n",
    "    \"Coconut\" : 150,\n",
    "    \"Banana\" : 100,\n",
    "    \"Pineapple\" : 120\n",
    "}\n",
    "input_price = int(input(\"Enter the price of the item: \"))\n",
    "for item, price in item_price.items():\n",
    "    if price == input_price:\n",
    "        print(f\"Item found: {item}\")\n",
    "        break\n",
    "else:\n",
    "    print(\"Item not found.\")"
   ]
  },
  {
   "cell_type": "markdown",
   "id": "897b4f77-0598-4491-99e8-839510b41813",
   "metadata": {},
   "source": [
    "### 81. Dictionary Merging: Given two dictionaries, write a Python program to merge them into a single dictionary and print the result."
   ]
  },
  {
   "cell_type": "code",
   "execution_count": 32,
   "id": "42b311bd-c085-4293-aa1e-622a651ff1f9",
   "metadata": {},
   "outputs": [
    {
     "name": "stdout",
     "output_type": "stream",
     "text": [
      "Merged Dictionary:\n",
      "{'Rahim': 80, 'Karim': 79, 'Jodu': 75, 'Orange': 220, 'Coconut': 150, 'Banana': 100, 'Pineapple': 120}\n"
     ]
    }
   ],
   "source": [
    "item_price = {\n",
    "    \"Orange\" : 220,\n",
    "    \"Coconut\" : 150,\n",
    "    \"Banana\" : 100,\n",
    "    \"Pineapple\" : 120\n",
    "}\n",
    "student_scores = {\n",
    "    \"Rahim\": 80,\n",
    "    \"Karim\": 79,\n",
    "    \"Jodu\" : 75\n",
    "}\n",
    "merged_dict = {**student_scores, **item_price}\n",
    "print(\"Merged Dictionary:\")\n",
    "print(merged_dict)"
   ]
  },
  {
   "cell_type": "markdown",
   "id": "e15393af-6d3d-487c-ba9d-9fc271238f3e",
   "metadata": {},
   "source": [
    "### 82. Dictionary Key Removal: Given a dictionary of items and their quantities, write a Python program to remove a specific item from the dictionary based on user input."
   ]
  },
  {
   "cell_type": "code",
   "execution_count": 36,
   "id": "dfb57bba-54b0-4180-a18a-45e9e21213c7",
   "metadata": {},
   "outputs": [
    {
     "name": "stdout",
     "output_type": "stream",
     "text": [
      "{'Orange': 220, 'Coconut': 150, 'Banana': 100, 'Pineapple': 120}\n"
     ]
    },
    {
     "name": "stdin",
     "output_type": "stream",
     "text": [
      "Enter an Item Name:  coconut\n"
     ]
    },
    {
     "name": "stdout",
     "output_type": "stream",
     "text": [
      "\n",
      "Coconut has been deleted.\n",
      "\n",
      "New Item Price\n",
      "{'Orange': 220, 'Banana': 100, 'Pineapple': 120}\n"
     ]
    }
   ],
   "source": [
    "item_price = {\n",
    "    \"Orange\" : 220,\n",
    "    \"Coconut\" : 150,\n",
    "    \"Banana\" : 100,\n",
    "    \"Pineapple\" : 120\n",
    "}\n",
    "print(item_price)\n",
    "key_remove = input(\"Enter an Item Name: \").capitalize()\n",
    "\n",
    "if key_remove in item_price:\n",
    "    del item_price[key_remove]\n",
    "    \n",
    "    print(f\"\\n{key_remove} has been deleted.\")\n",
    "    print(\"\\nNew Item Price\")\n",
    "    print(item_price)\n",
    "    \n",
    "else:\n",
    "    print(\"key didn't find in the dictionary.\")"
   ]
  },
  {
   "cell_type": "markdown",
   "id": "0bf07f3d-8ef3-4b97-9001-9b5b27af336c",
   "metadata": {},
   "source": [
    "### 83. Dictionary Sorting: Given a dictionary with names as keys and corresponding ages as values, write a Python program to sort the dictionary based on age in ascending order."
   ]
  },
  {
   "cell_type": "code",
   "execution_count": 41,
   "id": "544be1a9-fe28-49e8-8dec-bb6d9150d7c4",
   "metadata": {},
   "outputs": [
    {
     "name": "stdout",
     "output_type": "stream",
     "text": [
      "Sort the dictionary based on age in ascending order.\n",
      "{'Modu': 12, 'Rahim': 20, 'Jodu': 23, 'Karim': 30}\n"
     ]
    }
   ],
   "source": [
    "ages = {\n",
    "    \"Rahim\" : 20,\n",
    "    \"Karim\" : 30,\n",
    "    \"Jodu\" : 23,\n",
    "    \"Modu\" : 12\n",
    "}\n",
    "lst = sorted(ages.items(), key= lambda x : x[1]) #sorted(what, how)\n",
    "print(\"Sort the dictionary based on age in ascending order.\")\n",
    "print(dict(lst))"
   ]
  },
  {
   "cell_type": "markdown",
   "id": "53e24822-1922-40fd-b950-493453d4ca09",
   "metadata": {},
   "source": [
    "### 84. Dictionary Frequency Count: Write a Python program that takes a string as input and creates a dictionary containing each character as a key and its frequency as the value."
   ]
  },
  {
   "cell_type": "code",
   "execution_count": 6,
   "id": "d94d77e5-9e99-4511-8b47-106af2496d89",
   "metadata": {},
   "outputs": [
    {
     "name": "stdin",
     "output_type": "stream",
     "text": [
      "Enter a text here:  hello\n"
     ]
    },
    {
     "name": "stdout",
     "output_type": "stream",
     "text": [
      "Character Frequency\n",
      "'h' : 1\n",
      "'e' : 1\n",
      "'l' : 2\n",
      "'o' : 1\n"
     ]
    }
   ],
   "source": [
    "text = input(\"Enter a text here: \")\n",
    "freq_dict = {}\n",
    "for char in text:\n",
    "    if char in freq_dict:\n",
    "        freq_dict[char] += 1\n",
    "    else:\n",
    "        freq_dict[char] = 1\n",
    "print(\"Character Frequency\")\n",
    "for char, value in freq_dict.items():\n",
    "    print(f\"'{char}' : {value}\")"
   ]
  },
  {
   "cell_type": "markdown",
   "id": "fa7f74d4-8b00-4be8-a25b-fa37c7472de7",
   "metadata": {},
   "source": [
    "### 85. Dictionary Comprehension: Given a list of integers, write a Python program to create a dictionary where the keys are the elements from the list, and the values are their squares."
   ]
  },
  {
   "cell_type": "code",
   "execution_count": 8,
   "id": "b524dc02-98c4-475c-9cd2-082b4529238b",
   "metadata": {},
   "outputs": [
    {
     "name": "stdout",
     "output_type": "stream",
     "text": [
      "{3: 9, 5: 25, 7: 49, 9: 81}\n"
     ]
    }
   ],
   "source": [
    "num = 3,5,7,9\n",
    "dict_comp = {n : n**2 for n in num}\n",
    "print(dict_comp)"
   ]
  },
  {
   "cell_type": "markdown",
   "id": "751b81bb-1ab1-47cf-bae2-b518af041660",
   "metadata": {},
   "source": [
    "### 86. Dictionary Key Check: Write a Python program that takes a key as input and checks if it exists in a given dictionary. Print “Key Found” if the key is present and “Key Not Found” otherwise."
   ]
  },
  {
   "cell_type": "code",
   "execution_count": 13,
   "id": "3fa69cbf-7793-419f-a3d4-e250bdab5750",
   "metadata": {},
   "outputs": [
    {
     "name": "stdin",
     "output_type": "stream",
     "text": [
      "Enter the price of the item:  orange\n"
     ]
    },
    {
     "name": "stdout",
     "output_type": "stream",
     "text": [
      "Key Found\n"
     ]
    }
   ],
   "source": [
    "item_price = {\n",
    "    \"Orange\" : 220,\n",
    "    \"Coconut\" : 150,\n",
    "    \"Banana\" : 100,\n",
    "    \"Pineapple\" : 120\n",
    "}\n",
    "input_key = input(\"Enter the price of the item: \").capitalize()\n",
    "for key, price in item_price.items():\n",
    "    if key == input_key:\n",
    "        print(f\"Key Found\")\n",
    "        break\n",
    "else:\n",
    "    print(\"Key Not Found.\")"
   ]
  },
  {
   "cell_type": "code",
   "execution_count": null,
   "id": "99e79dc1-ad7b-40ca-ad0d-ab8d0832cbcc",
   "metadata": {},
   "outputs": [],
   "source": []
  }
 ],
 "metadata": {
  "kernelspec": {
   "display_name": "Python 3 (ipykernel)",
   "language": "python",
   "name": "python3"
  },
  "language_info": {
   "codemirror_mode": {
    "name": "ipython",
    "version": 3
   },
   "file_extension": ".py",
   "mimetype": "text/x-python",
   "name": "python",
   "nbconvert_exporter": "python",
   "pygments_lexer": "ipython3",
   "version": "3.13.5"
  }
 },
 "nbformat": 4,
 "nbformat_minor": 5
}
