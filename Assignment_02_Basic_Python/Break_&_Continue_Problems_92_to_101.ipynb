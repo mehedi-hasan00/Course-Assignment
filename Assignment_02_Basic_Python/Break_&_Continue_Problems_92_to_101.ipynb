{
 "cells": [
  {
   "cell_type": "markdown",
   "id": "536ada2b-e144-4825-b22b-b4d305cf0f96",
   "metadata": {},
   "source": [
    "## Break & Continue:"
   ]
  },
  {
   "cell_type": "markdown",
   "id": "9fb75188-2b56-45ac-b5dd-9bbc823c51a7",
   "metadata": {},
   "source": [
    "### 92. Prime Number Checker: Write a Python program that takes a number as input and determines if it is a prime number or not. Use a `for` loop to check for factors. If a factor is found, `break` out of the loop."
   ]
  },
  {
   "cell_type": "code",
   "execution_count": 1,
   "id": "59dd27ef-7b0d-462f-99dc-6f102d5ffac5",
   "metadata": {},
   "outputs": [
    {
     "name": "stdin",
     "output_type": "stream",
     "text": [
      "Enter a number: 4\n"
     ]
    },
    {
     "name": "stdout",
     "output_type": "stream",
     "text": [
      "4 is not a prime number(divided by 2).\n"
     ]
    }
   ],
   "source": [
    "num = int(input(\"Enter a number:\" ))\n",
    "if num < 2:\n",
    "    print(f\"{num} is not a prime number.\")\n",
    "else:\n",
    "    for i in range(2,num):\n",
    "        if num % i == 0:\n",
    "            print(f\"{num} is not a prime number(divided by {i}).\")\n",
    "            break\n",
    "    else:\n",
    "        print(f\"{num} is a prime number.\")   "
   ]
  },
  {
   "cell_type": "markdown",
   "id": "56226e50-ad0c-4903-9662-cc2594156b90",
   "metadata": {},
   "source": [
    "### 93. Even Number Printer: Write a Python program to print all even numbers from 1 to 20. Use a `for` loop and `continue` to skip odd numbers."
   ]
  },
  {
   "cell_type": "code",
   "execution_count": 7,
   "id": "3e42d799-8ca2-43b8-8eb5-ace79ac03b65",
   "metadata": {},
   "outputs": [
    {
     "name": "stdout",
     "output_type": "stream",
     "text": [
      "Even Number from 1 to 20.\n",
      "2 4 6 8 10 12 14 16 18 20 "
     ]
    }
   ],
   "source": [
    "print(\"Even Number from 1 to 20.\")\n",
    "for i in range(1,21):\n",
    "    if i%2 != 0:\n",
    "        continue\n",
    "    print(i, end = \" \")"
   ]
  },
  {
   "cell_type": "markdown",
   "id": "7205b050-1add-4724-ace3-460fac6886c9",
   "metadata": {},
   "source": [
    "### 94. Password Validator: Write a Python program that takes a password as input and checks if it meets the following criteria: at least 8 characters long, contains both uppercase and lowercase letters, and has at least one digit. If the password is valid, print “Password accepted.” If not, use `continue` to prompt the user to enter a valid password."
   ]
  },
  {
   "cell_type": "code",
   "execution_count": 3,
   "id": "97f5370c-52c0-4169-9de4-d6a6c93dac31",
   "metadata": {},
   "outputs": [
    {
     "name": "stdin",
     "output_type": "stream",
     "text": [
      "Enter Password:  Mehedihasan0\n"
     ]
    },
    {
     "name": "stdout",
     "output_type": "stream",
     "text": [
      "Password Accepted.\n"
     ]
    }
   ],
   "source": [
    "while True:\n",
    "    password = input(\"Enter Password: \")\n",
    "    if len(password) < 8:\n",
    "        print(\"Password must be at lest 8 characters long.\")\n",
    "        continue\n",
    "    if not any(ch.isupper() for ch in password):\n",
    "        print(\"Password must be at lest one Uppercase letter.\")\n",
    "        continue\n",
    "    if not any(ch.islower() for ch in password):\n",
    "        print(\"Password must be at lest one Lowercase letter.\")\n",
    "        continue\n",
    "    if not any(ch.isdigit() for ch in password):\n",
    "        print(\"Password must be at lest one Digit.\")\n",
    "        continue\n",
    "    print(\"Password Accepted.\")\n",
    "    break"
   ]
  },
  {
   "cell_type": "markdown",
   "id": "4ca24d39-dd97-4b18-b5ab-c89dae0ff9c7",
   "metadata": {},
   "source": [
    "### 95. Divisible by 3 or 5: Write a Python program to print all numbers from 1 to 50 that are divisible by either 3 or 5. Use a `for` loop and `continue` to skip numbers that are not divisible by either 3 or 5."
   ]
  },
  {
   "cell_type": "code",
   "execution_count": 6,
   "id": "76456801-1c34-4478-b26a-fd1b50f5edd7",
   "metadata": {},
   "outputs": [
    {
     "name": "stdout",
     "output_type": "stream",
     "text": [
      "3 5 6 9 10 12 15 18 20 21 24 25 27 30 33 35 36 39 40 42 45 48 50 "
     ]
    }
   ],
   "source": [
    "for i in range(1,51):\n",
    "    if not (i % 3 == 0 or i % 5 ==0):\n",
    "        continue\n",
    "    else:\n",
    "        print(i,end=\" \")"
   ]
  },
  {
   "cell_type": "markdown",
   "id": "9bc64ecc-79c6-487a-8008-b68f30d5d578",
   "metadata": {},
   "source": [
    "### 96. Positive Number Sum: Write a Python program that takes positive numbers as input until a negative number is entered. Then, calculate and print the sum of all positive numbers entered. Use a `while` loop and `break` to exit the loop when a negative number is encountered."
   ]
  },
  {
   "cell_type": "code",
   "execution_count": 8,
   "id": "53cb67e5-55de-40d7-8a6e-4edaceb001bc",
   "metadata": {},
   "outputs": [
    {
     "name": "stdin",
     "output_type": "stream",
     "text": [
      "Enter positive number:  1\n",
      "Enter positive number:  2\n",
      "Enter positive number:  3\n",
      "Enter positive number:  4\n",
      "Enter positive number:  5\n",
      "Enter positive number:  6\n",
      "Enter positive number:  -3\n"
     ]
    },
    {
     "name": "stdout",
     "output_type": "stream",
     "text": [
      "Sum of all positive numbers:  21\n"
     ]
    }
   ],
   "source": [
    "total = 0\n",
    "while True:\n",
    "    num = int(input(\"Enter positive number: \"))\n",
    "    if num<0:\n",
    "        break\n",
    "    total += num\n",
    "print(\"Sum of all positive numbers: \", total)"
   ]
  },
  {
   "cell_type": "markdown",
   "id": "6ef001b7-ee3f-4aee-9490-a169239db4a1",
   "metadata": {},
   "source": [
    "### 97. Word Palindrome Checker: Write a Python program that takes a word as input and checks if it is a palindrome (reads the same forwards and backward). Use `continue` to skip checking the word if its length is less than 3 characters."
   ]
  },
  {
   "cell_type": "code",
   "execution_count": 10,
   "id": "2fcc1f62-09a3-4f20-ae73-603fbcf43669",
   "metadata": {},
   "outputs": [
    {
     "name": "stdin",
     "output_type": "stream",
     "text": [
      "Enter a word:  mm\n"
     ]
    },
    {
     "name": "stdout",
     "output_type": "stream",
     "text": [
      "Word must be more at least 3 character\n"
     ]
    },
    {
     "name": "stdin",
     "output_type": "stream",
     "text": [
      "Enter a word:  mmomm\n"
     ]
    },
    {
     "name": "stdout",
     "output_type": "stream",
     "text": [
      "mmomm is a Palindrome.\n"
     ]
    }
   ],
   "source": [
    "while True:\n",
    "    word = input(\"Enter a word: \")\n",
    "    if len(word)<3:\n",
    "        print(\"Word must be more at least 3 character\")\n",
    "        continue\n",
    "    if word == word[::-1]:\n",
    "        print(f\"{word} is a Palindrome.\")\n",
    "    else:\n",
    "        print(f\"{word} is not Palindrome.\")\n",
    "    break"
   ]
  },
  {
   "cell_type": "markdown",
   "id": "dcc861e2-b490-4fcb-b934-c361f051d033",
   "metadata": {},
   "source": [
    "### 98. Odd Number Finder: Write a Python program to find the first odd number from a list of integers. Use a `for` loop and `break` to stop the loop when the first odd number is found."
   ]
  },
  {
   "cell_type": "code",
   "execution_count": 15,
   "id": "1898c088-b4a7-4ed5-9274-85df5161a493",
   "metadata": {},
   "outputs": [
    {
     "name": "stdout",
     "output_type": "stream",
     "text": [
      "First Odd number is: 27\n"
     ]
    }
   ],
   "source": [
    "num = [22,24,26,27,28,29,30]\n",
    "for i in num:\n",
    "    if not i%2 == 0:\n",
    "        print(f\"First Odd number is: {i}\")\n",
    "        break"
   ]
  },
  {
   "cell_type": "markdown",
   "id": "f70ef406-e066-41c6-91c9-536fa05517fe",
   "metadata": {},
   "source": [
    "### 99. Number Guessing Game: Write a Python program that generates a random number between 1 and 100 and lets the user guess the number. Use a `while` loop, `break` when the correct number is guessed, and `continue` to keep prompting the user until they guess correctly."
   ]
  },
  {
   "cell_type": "code",
   "execution_count": 21,
   "id": "25fbb156-c7b9-4c52-a721-c7ff56b4f69c",
   "metadata": {},
   "outputs": [
    {
     "name": "stdin",
     "output_type": "stream",
     "text": [
      "Guess a number between 1 to 100:  19\n"
     ]
    },
    {
     "name": "stdout",
     "output_type": "stream",
     "text": [
      "Your Guess is too low! Guess Again.\n"
     ]
    },
    {
     "name": "stdin",
     "output_type": "stream",
     "text": [
      "Guess a number between 1 to 100:  30\n"
     ]
    },
    {
     "name": "stdout",
     "output_type": "stream",
     "text": [
      "Your Guess is too low! Guess Again.\n"
     ]
    },
    {
     "name": "stdin",
     "output_type": "stream",
     "text": [
      "Guess a number between 1 to 100:  40\n"
     ]
    },
    {
     "name": "stdout",
     "output_type": "stream",
     "text": [
      "Your Guess is too low! Guess Again.\n"
     ]
    },
    {
     "name": "stdin",
     "output_type": "stream",
     "text": [
      "Guess a number between 1 to 100:  50\n"
     ]
    },
    {
     "name": "stdout",
     "output_type": "stream",
     "text": [
      "Your Guess is too low! Guess Again.\n"
     ]
    },
    {
     "name": "stdin",
     "output_type": "stream",
     "text": [
      "Guess a number between 1 to 100:  60\n"
     ]
    },
    {
     "name": "stdout",
     "output_type": "stream",
     "text": [
      "Your Guess is too low! Guess Again.\n"
     ]
    },
    {
     "name": "stdin",
     "output_type": "stream",
     "text": [
      "Guess a number between 1 to 100:  70\n"
     ]
    },
    {
     "name": "stdout",
     "output_type": "stream",
     "text": [
      "Your Guess is too high! Guess Again.\n"
     ]
    },
    {
     "name": "stdin",
     "output_type": "stream",
     "text": [
      "Guess a number between 1 to 100:  65\n"
     ]
    },
    {
     "name": "stdout",
     "output_type": "stream",
     "text": [
      "Your Guess is too low! Guess Again.\n"
     ]
    },
    {
     "name": "stdin",
     "output_type": "stream",
     "text": [
      "Guess a number between 1 to 100:  66\n"
     ]
    },
    {
     "name": "stdout",
     "output_type": "stream",
     "text": [
      "Your Guess 66 is correct!\n"
     ]
    }
   ],
   "source": [
    "import random\n",
    "num = random.randint(1,100)\n",
    "while True:\n",
    "    guess = int(input(\"Guess a number between 1 to 100: \"))\n",
    "    if guess == num:\n",
    "        print(f\"Your Guess {guess} is correct!\")\n",
    "        break\n",
    "    elif guess> num:\n",
    "        print(\"Your Guess is too high! Guess Again.\")\n",
    "        continue\n",
    "    elif guess< num:\n",
    "        print(\"Your Guess is too low! Guess Again.\")\n",
    "        continue\n",
    "        "
   ]
  },
  {
   "cell_type": "markdown",
   "id": "0b358e36-2298-4cee-a399-58b231b222d4",
   "metadata": {},
   "source": [
    "### 100. Vowel Counter: Write a Python program that takes a string as input and counts the number of vowels (a, e, i, o, u) in it. Use a `for` loop and `continue` to skip counting non-vowel characters."
   ]
  },
  {
   "cell_type": "code",
   "execution_count": 23,
   "id": "b2d590b9-97f4-4d01-9366-5f4d502e3522",
   "metadata": {},
   "outputs": [
    {
     "name": "stdin",
     "output_type": "stream",
     "text": [
      "Enter a word:  mehedi\n"
     ]
    },
    {
     "name": "stdout",
     "output_type": "stream",
     "text": [
      "NUmber of Vowels: 3\n"
     ]
    }
   ],
   "source": [
    "count= 0\n",
    "vowels = ('a', 'e', 'i', 'o', 'u')\n",
    "word = input(\"Enter a word: \").lower()\n",
    "for ch in word:\n",
    "    if ch not in vowels:\n",
    "        continue\n",
    "    count +=1\n",
    "print(\"NUmber of Vowels:\", count)"
   ]
  },
  {
   "cell_type": "markdown",
   "id": "745c889d-afca-4583-9ee1-16415eb77169",
   "metadata": {},
   "source": [
    "### 101. Unique Characters: Write a Python program that takes a string as input and checks if it contains all unique characters (no character repeats). Use a `for` loop and `break` when a character repeats."
   ]
  },
  {
   "cell_type": "code",
   "execution_count": 25,
   "id": "ac40a08d-9046-4889-8313-2424aa0ed6b8",
   "metadata": {},
   "outputs": [
    {
     "name": "stdin",
     "output_type": "stream",
     "text": [
      "Enter a word:  mhd\n"
     ]
    },
    {
     "name": "stdout",
     "output_type": "stream",
     "text": [
      "Unique\n"
     ]
    }
   ],
   "source": [
    "word = input(\"Enter a word: \")\n",
    "unique = True\n",
    "for ch in word:\n",
    "    if word.count(ch)>1:\n",
    "        print(\"REPeated\")\n",
    "        unique = False\n",
    "        break\n",
    "if unique:\n",
    "    print(\"Unique\")\n",
    "    "
   ]
  },
  {
   "cell_type": "code",
   "execution_count": null,
   "id": "372b6da5-5984-41a4-9df2-859744d29a53",
   "metadata": {},
   "outputs": [],
   "source": []
  }
 ],
 "metadata": {
  "kernelspec": {
   "display_name": "Python 3 (ipykernel)",
   "language": "python",
   "name": "python3"
  },
  "language_info": {
   "codemirror_mode": {
    "name": "ipython",
    "version": 3
   },
   "file_extension": ".py",
   "mimetype": "text/x-python",
   "name": "python",
   "nbconvert_exporter": "python",
   "pygments_lexer": "ipython3",
   "version": "3.13.5"
  }
 },
 "nbformat": 4,
 "nbformat_minor": 5
}
