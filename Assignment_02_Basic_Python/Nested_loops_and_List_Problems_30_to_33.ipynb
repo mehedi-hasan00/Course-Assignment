{
 "cells": [
  {
   "cell_type": "markdown",
   "id": "d67944a7-354f-4024-993d-6e183aa92d46",
   "metadata": {},
   "source": [
    "# Nested Loops and List Problems (30 to 43)."
   ]
  },
  {
   "cell_type": "markdown",
   "id": "9d432be5-ddfe-4eca-83e1-45f012473207",
   "metadata": {},
   "source": [
    "### 30. Multiplication Table: Write a Python program using nested loops to print the multiplication table from 1 to 10."
   ]
  },
  {
   "cell_type": "code",
   "execution_count": 5,
   "id": "6797ce29-bdfb-4c04-b911-d93de6471078",
   "metadata": {},
   "outputs": [
    {
     "name": "stdout",
     "output_type": "stream",
     "text": [
      "1 x 1 = 1\n",
      "1 x 2 = 2\n",
      "1 x 3 = 3\n",
      "1 x 4 = 4\n",
      "1 x 5 = 5\n",
      "1 x 6 = 6\n",
      "1 x 7 = 7\n",
      "1 x 8 = 8\n",
      "1 x 9 = 9\n",
      "1 x 10 = 10\n",
      "\n",
      "2 x 1 = 2\n",
      "2 x 2 = 4\n",
      "2 x 3 = 6\n",
      "2 x 4 = 8\n",
      "2 x 5 = 10\n",
      "2 x 6 = 12\n",
      "2 x 7 = 14\n",
      "2 x 8 = 16\n",
      "2 x 9 = 18\n",
      "2 x 10 = 20\n",
      "\n",
      "3 x 1 = 3\n",
      "3 x 2 = 6\n",
      "3 x 3 = 9\n",
      "3 x 4 = 12\n",
      "3 x 5 = 15\n",
      "3 x 6 = 18\n",
      "3 x 7 = 21\n",
      "3 x 8 = 24\n",
      "3 x 9 = 27\n",
      "3 x 10 = 30\n",
      "\n",
      "4 x 1 = 4\n",
      "4 x 2 = 8\n",
      "4 x 3 = 12\n",
      "4 x 4 = 16\n",
      "4 x 5 = 20\n",
      "4 x 6 = 24\n",
      "4 x 7 = 28\n",
      "4 x 8 = 32\n",
      "4 x 9 = 36\n",
      "4 x 10 = 40\n",
      "\n",
      "5 x 1 = 5\n",
      "5 x 2 = 10\n",
      "5 x 3 = 15\n",
      "5 x 4 = 20\n",
      "5 x 5 = 25\n",
      "5 x 6 = 30\n",
      "5 x 7 = 35\n",
      "5 x 8 = 40\n",
      "5 x 9 = 45\n",
      "5 x 10 = 50\n",
      "\n",
      "6 x 1 = 6\n",
      "6 x 2 = 12\n",
      "6 x 3 = 18\n",
      "6 x 4 = 24\n",
      "6 x 5 = 30\n",
      "6 x 6 = 36\n",
      "6 x 7 = 42\n",
      "6 x 8 = 48\n",
      "6 x 9 = 54\n",
      "6 x 10 = 60\n",
      "\n",
      "7 x 1 = 7\n",
      "7 x 2 = 14\n",
      "7 x 3 = 21\n",
      "7 x 4 = 28\n",
      "7 x 5 = 35\n",
      "7 x 6 = 42\n",
      "7 x 7 = 49\n",
      "7 x 8 = 56\n",
      "7 x 9 = 63\n",
      "7 x 10 = 70\n",
      "\n",
      "8 x 1 = 8\n",
      "8 x 2 = 16\n",
      "8 x 3 = 24\n",
      "8 x 4 = 32\n",
      "8 x 5 = 40\n",
      "8 x 6 = 48\n",
      "8 x 7 = 56\n",
      "8 x 8 = 64\n",
      "8 x 9 = 72\n",
      "8 x 10 = 80\n",
      "\n",
      "9 x 1 = 9\n",
      "9 x 2 = 18\n",
      "9 x 3 = 27\n",
      "9 x 4 = 36\n",
      "9 x 5 = 45\n",
      "9 x 6 = 54\n",
      "9 x 7 = 63\n",
      "9 x 8 = 72\n",
      "9 x 9 = 81\n",
      "9 x 10 = 90\n",
      "\n",
      "10 x 1 = 10\n",
      "10 x 2 = 20\n",
      "10 x 3 = 30\n",
      "10 x 4 = 40\n",
      "10 x 5 = 50\n",
      "10 x 6 = 60\n",
      "10 x 7 = 70\n",
      "10 x 8 = 80\n",
      "10 x 9 = 90\n",
      "10 x 10 = 100\n",
      "\n"
     ]
    }
   ],
   "source": [
    "for i in range(1, 11):\n",
    "    for j in range(1, 11):\n",
    "        print(f\"{i} x {j} = {i*j}\")\n",
    "    print()"
   ]
  },
  {
   "cell_type": "markdown",
   "id": "2389eaff-b714-4292-ab99-565dbf613557",
   "metadata": {},
   "source": [
    "### 31. Print Patterns: Write a Python program using nested loops to print the following pattern: \n",
    "*\n",
    "\n",
    "**\n",
    "\n",
    "***\n",
    "\n",
    "****\n",
    "\n",
    "*****"
   ]
  },
  {
   "cell_type": "code",
   "execution_count": 14,
   "id": "d7fc1f00-d2a4-483f-b9de-840ac1506a0f",
   "metadata": {},
   "outputs": [
    {
     "name": "stdout",
     "output_type": "stream",
     "text": [
      "*\n",
      "**\n",
      "***\n",
      "****\n",
      "*****\n"
     ]
    }
   ],
   "source": [
    "row = 5\n",
    "for i in range(1, row+1):\n",
    "    for j in range(i):\n",
    "        print(\"*\", end = \"\")\n",
    "    print()"
   ]
  },
  {
   "cell_type": "markdown",
   "id": "6c9bb74b-aef0-4358-921f-caf3e6121296",
   "metadata": {},
   "source": [
    "### 32. Matrix Multiplication: Write a Python program using nested loops to multiply two matrices."
   ]
  },
  {
   "cell_type": "code",
   "execution_count": 10,
   "id": "0c11e48d-099e-4cce-b0f8-606d6d64c593",
   "metadata": {},
   "outputs": [
    {
     "name": "stdout",
     "output_type": "stream",
     "text": [
      "[7, 27, 25]\n",
      "[9, 14, 20]\n",
      "[6, 19, 19]\n"
     ]
    }
   ],
   "source": [
    "A = [[1,3],\n",
    "     [2,1],\n",
    "     [1,2]\n",
    "    ]\n",
    "B = [[4,3,7],\n",
    "     [1,8,6]\n",
    "    ]\n",
    "m = len(A)\n",
    "n = len(A[0])\n",
    "p = len(B[0])\n",
    "c = [[0 for _ in range(p)] for _ in range(m)]\n",
    "for i in range(m):\n",
    "    for j in range(p):\n",
    "        for k in range(n):\n",
    "            c [i][j] += A[i][k] * B[k][j]\n",
    "for row in c:\n",
    "    print(row)"
   ]
  },
  {
   "cell_type": "markdown",
   "id": "f38a4825-efab-4b55-b5df-d5a0e636cdf0",
   "metadata": {},
   "source": [
    "### 33. Chessboard Pattern: Write a Python program using nested loops to print a chessboard pattern (alternating “X” and “O” characters) of size 8×8."
   ]
  },
  {
   "cell_type": "code",
   "execution_count": 11,
   "id": "7c17aa51-d0fe-47af-a57c-4bb7efcdba1a",
   "metadata": {},
   "outputs": [
    {
     "name": "stdout",
     "output_type": "stream",
     "text": [
      "X O X O X O X O \n",
      "O X O X O X O X \n",
      "X O X O X O X O \n",
      "O X O X O X O X \n",
      "X O X O X O X O \n",
      "O X O X O X O X \n",
      "X O X O X O X O \n",
      "O X O X O X O X \n"
     ]
    }
   ],
   "source": [
    "size = 8\n",
    "for i in range(size):\n",
    "    for j in range(size):   # 8 x 8 \n",
    "        if (i+j) % 2 == 0:\n",
    "            print(\"X\", end = \" \")\n",
    "        else:\n",
    "            print(\"O\", end = \" \")\n",
    "    print()"
   ]
  },
  {
   "cell_type": "markdown",
   "id": "4d1954c5-e12e-4134-a48e-6b5f11cd53a7",
   "metadata": {},
   "source": [
    "### 33.1. Number Pyramid: Write a Python program using nested loops to print a number pyramid like the following: 1 22 333 4444 55555"
   ]
  },
  {
   "cell_type": "code",
   "execution_count": 12,
   "id": "fb225acf-73b0-42f2-a797-84b6120846c1",
   "metadata": {},
   "outputs": [
    {
     "name": "stdout",
     "output_type": "stream",
     "text": [
      "1 \n",
      "2 2 \n",
      "3 3 3 \n",
      "4 4 4 4 \n",
      "5 5 5 5 5 \n"
     ]
    }
   ],
   "source": [
    "for i in range (1,6):\n",
    "    for j in range(i):\n",
    "        print(i, end = \" \")\n",
    "    print()"
   ]
  },
  {
   "cell_type": "code",
   "execution_count": null,
   "id": "c767a40d-90f1-4151-9233-d0cb151cab0e",
   "metadata": {},
   "outputs": [],
   "source": []
  }
 ],
 "metadata": {
  "kernelspec": {
   "display_name": "Python 3 (ipykernel)",
   "language": "python",
   "name": "python3"
  },
  "language_info": {
   "codemirror_mode": {
    "name": "ipython",
    "version": 3
   },
   "file_extension": ".py",
   "mimetype": "text/x-python",
   "name": "python",
   "nbconvert_exporter": "python",
   "pygments_lexer": "ipython3",
   "version": "3.13.5"
  }
 },
 "nbformat": 4,
 "nbformat_minor": 5
}
