{
 "cells": [
  {
   "cell_type": "markdown",
   "id": "9fb73f8b-fc83-4cc7-9abd-86905405c5bc",
   "metadata": {},
   "source": [
    "# Nested Dictionary Problems(87 to 91)"
   ]
  },
  {
   "cell_type": "markdown",
   "id": "4b600ca5-943b-4f4c-9984-4d33e6d731c9",
   "metadata": {},
   "source": [
    "### 87. Access Nested Dictionary: Given a nested dictionary containing student details, write a Python program to access and print specific information such as a student’s name, age, and address.\n"
   ]
  },
  {
   "cell_type": "code",
   "execution_count": 1,
   "id": "cde025c8-601f-460e-aff4-16ce332e60fb",
   "metadata": {},
   "outputs": [],
   "source": [
    "students = {\"std_1\":{\n",
    "    \"name\" : \"Rahim\",\n",
    "    \"age\" : 23,\n",
    "    \"address\" : \"Dhaka\"},\n",
    "            \"std_2\":{\n",
    "    \"name\" : \"Karim\",\n",
    "    \"age\" : 25,\n",
    "    \"address\" : \"Sylhet\"},\n",
    "            \"std_3\":{\n",
    "    \"name\" : \"Jodu\",\n",
    "    \"age\" : 33,\n",
    "    \"address\" : \"Rangpur\"}\n",
    "           }"
   ]
  },
  {
   "cell_type": "code",
   "execution_count": 2,
   "id": "d7cd97b8-dca0-4993-8347-13d7b3ccfbb6",
   "metadata": {},
   "outputs": [
    {
     "name": "stdin",
     "output_type": "stream",
     "text": [
      "Enter student ID:  std_1\n"
     ]
    },
    {
     "name": "stdout",
     "output_type": "stream",
     "text": [
      "Name: Rahim, Age: 23, Address: Dhaka\n"
     ]
    }
   ],
   "source": [
    "user_input = input(\"Enter student ID: \")\n",
    "if user_input in students:\n",
    "    info = students[user_input]\n",
    "    print(f\"Name: {info['name']}, Age: {info['age']}, Address: {info['address']}\")\n",
    "else:\n",
    "    print(\"Student didn't find\")"
   ]
  },
  {
   "cell_type": "markdown",
   "id": "406dbc99-e8c9-4c4e-baa4-6d439fc6cecd",
   "metadata": {},
   "source": [
    "### 88. Nested Dictionary Length: Write a Python program to calculate and print the total number of key-value pairs in a nested dictionary."
   ]
  },
  {
   "cell_type": "code",
   "execution_count": 3,
   "id": "5033b393-e5ea-4206-abb0-9b19e961606e",
   "metadata": {},
   "outputs": [],
   "source": [
    "students = {\"std_1\":{\n",
    "    \"name\" : \"Rahim\",\n",
    "    \"age\" : 23,\n",
    "    \"address\" : \"Dhaka\"},\n",
    "            \"std_2\":{\n",
    "    \"name\" : \"Karim\",\n",
    "    \"age\" : 25,\n",
    "    \"address\" : \"Sylhet\"},\n",
    "            \"std_3\":{\n",
    "    \"name\" : \"Jodu\",\n",
    "    \"age\" : 33,\n",
    "    \"address\" : \"Rangpur\"}\n",
    "           }"
   ]
  },
  {
   "cell_type": "code",
   "execution_count": 5,
   "id": "f5964601-ef35-492c-b7d6-2eb4f3d77db5",
   "metadata": {},
   "outputs": [
    {
     "name": "stdout",
     "output_type": "stream",
     "text": [
      "Total Number of Key-Value Pairs: 12\n"
     ]
    }
   ],
   "source": [
    "count = 0\n",
    "for key, value in students.items():\n",
    "    count += 1\n",
    "    if isinstance(value, dict):\n",
    "        count += len(value)\n",
    "print(f\"Total Number of Key-Value Pairs: {count}\")"
   ]
  },
  {
   "cell_type": "markdown",
   "id": "36e81aa7-e195-414d-805a-c98042941927",
   "metadata": {},
   "source": [
    "### 89. Nested Dictionary Update: Given a nested dictionary of employee details, write a Python program to update an employee’s salary based on their employee ID."
   ]
  },
  {
   "cell_type": "code",
   "execution_count": 16,
   "id": "a6a19bcc-6e86-49a3-b6bd-5b251aa26371",
   "metadata": {},
   "outputs": [
    {
     "name": "stdout",
     "output_type": "stream",
     "text": [
      "Employees Info.\n",
      "\n",
      "ID: 101, Name: Rahim, Salary: 50000\n",
      "ID: 102, Name: Karim, Salary: 52000\n",
      "ID: 103, Name: Jodu, Salary: 51000\n"
     ]
    },
    {
     "name": "stdin",
     "output_type": "stream",
     "text": [
      "Enter Employee ID to Update Salary:  102\n",
      "Enter Updated salary:  300\n"
     ]
    },
    {
     "name": "stdout",
     "output_type": "stream",
     "text": [
      "\n",
      "Salary Updated\n",
      "\n",
      "Employees New Info.\n",
      "\n",
      "ID: 101, Name: Rahim, Salary: 50000\n",
      "ID: 102, Name: Karim, Salary: 300\n",
      "ID: 103, Name: Jodu, Salary: 51000\n"
     ]
    }
   ],
   "source": [
    "employees = {101: {\"name\" : \"Rahim\", \"salary\" : 50000},\n",
    "             102: {\"name\" : \"Karim\", \"salary\" : 52000},\n",
    "             103: {\"name\" : \"Jodu\", \"salary\" : 51000}\n",
    "           }\n",
    "print(\"Employees Info.\\n\")\n",
    "for emp_id, info in employees.items():\n",
    "    print(f\"ID: {emp_id}, Name: {info['name']}, Salary: {info['salary']}\")\n",
    "    \n",
    "emp_id = int(input(\"Enter Employee ID to Update Salary: \"))\n",
    "\n",
    "if emp_id in employees:\n",
    "    new_salary = int(input(\"Enter Updated salary: \"))\n",
    "    employees[emp_id]['salary'] = new_salary\n",
    "    print(\"\\nSalary Updated\")\n",
    "    \n",
    "else:\n",
    "    print(\"\\nEmpolyee ID didn't match.\")\n",
    "    \n",
    "print(\"\\nEmployees New Info.\\n\")\n",
    "for emp_id, info in employees.items():\n",
    "    print(f\"ID: {emp_id}, Name: {info['name']}, Salary: {info['salary']}\")"
   ]
  },
  {
   "cell_type": "markdown",
   "id": "cf5e7296-b374-43cb-b1e3-b63b34186f85",
   "metadata": {},
   "source": [
    "### 90. Nested Dictionary Sorting: Given a nested dictionary containing product details (product name, price, and quantity), write a Python program to sort the products based on their prices in ascending order."
   ]
  },
  {
   "cell_type": "code",
   "execution_count": 22,
   "id": "906fb3bd-4648-419b-a524-2796c24000ea",
   "metadata": {},
   "outputs": [
    {
     "name": "stdout",
     "output_type": "stream",
     "text": [
      "\n",
      "Sorted Products Based on their Prices in Ascending Order.\n",
      "\n",
      "{2: {'Name': 'Phone', 'Price': 80000, 'Quantity': 4}, 3: {'Name': 'Tab', 'Price': 100000, 'Quantity': 3}, 1: {'Name': 'Computer', 'Price': 120000, 'Quantity': 2}}\n"
     ]
    }
   ],
   "source": [
    "products = {\n",
    "    1:{\"Name\": \"Computer\", \"Price\": 120000, \"Quantity\": 2},\n",
    "    2:{\"Name\": \"Phone\", \"Price\": 80000, \"Quantity\": 4},\n",
    "    3:{\"Name\": \"Tab\", \"Price\": 100000, \"Quantity\": 3}\n",
    "    }\n",
    "sorted_product= dict(sorted(products.items(),key = lambda x: x[1]['Price']))\n",
    "print(\"\\nSorted Products Based on their Prices in Ascending Order.\\n\")\n",
    "print(sorted_product)"
   ]
  },
  {
   "cell_type": "markdown",
   "id": "dbd4338f-7fd2-40d7-9f75-b93255dd1af2",
   "metadata": {},
   "source": [
    "### 91. Nested Dictionary Key Search: Write a Python program that takes a key as input and searches for it in a nested dictionary. If found, print the corresponding value, otherwise, print “Key Not Found.”"
   ]
  },
  {
   "cell_type": "code",
   "execution_count": 30,
   "id": "b20ed697-49fb-4176-9a11-71a938d1b5da",
   "metadata": {},
   "outputs": [
    {
     "name": "stdin",
     "output_type": "stream",
     "text": [
      "Enter the fruit name:  orange\n"
     ]
    },
    {
     "name": "stdout",
     "output_type": "stream",
     "text": [
      "Orange Found! Price: 220\n"
     ]
    }
   ],
   "source": [
    "item_price = {\n",
    "    1 : {\"Name\" : \"Orange\", \"Price\" : 220},\n",
    "    2 : {\"Name\" : \"Coconut\", \"Price\" : 150},\n",
    "    3 : {\"Name\" : \"Banana\", \"Price\" : 100},\n",
    "    4 : {\"Name\" : \"Pineapple\", \"Price\" : 120}\n",
    "}\n",
    "input_key = input(\"Enter the fruit name: \").capitalize()\n",
    "for key, info in item_price.items():\n",
    "    if info['Name'] == input_key:\n",
    "        print(f\"{input_key} Found! Price: {info['Price']}\")\n",
    "        \n",
    "        break\n",
    "else:\n",
    "    print(\"Key Not Found.\")"
   ]
  },
  {
   "cell_type": "code",
   "execution_count": null,
   "id": "4e088786-e1ae-49d8-8f6d-7882d96df2ef",
   "metadata": {},
   "outputs": [],
   "source": []
  }
 ],
 "metadata": {
  "kernelspec": {
   "display_name": "Python 3 (ipykernel)",
   "language": "python",
   "name": "python3"
  },
  "language_info": {
   "codemirror_mode": {
    "name": "ipython",
    "version": 3
   },
   "file_extension": ".py",
   "mimetype": "text/x-python",
   "name": "python",
   "nbconvert_exporter": "python",
   "pygments_lexer": "ipython3",
   "version": "3.13.5"
  }
 },
 "nbformat": 4,
 "nbformat_minor": 5
}
