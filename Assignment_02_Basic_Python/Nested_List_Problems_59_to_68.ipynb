{
 "cells": [
  {
   "cell_type": "markdown",
   "id": "c379ed3c-d1e9-4d26-bbf5-72c7849cf038",
   "metadata": {},
   "source": [
    "# Nested List Problems(59 to 68):"
   ]
  },
  {
   "cell_type": "markdown",
   "id": "db6dec3b-d666-4c5e-b0b1-638850b779b0",
   "metadata": {},
   "source": [
    "### 59. Nested List Element Access: Given a nested list, write a Python program to access and print specific elements from it."
   ]
  },
  {
   "cell_type": "code",
   "execution_count": 5,
   "id": "a32ff398-abbc-4e23-a028-4648dc116584",
   "metadata": {},
   "outputs": [
    {
     "name": "stdout",
     "output_type": "stream",
     "text": [
      "First element of the First list: 1\n",
      "Last element of the Last list: 7\n"
     ]
    }
   ],
   "source": [
    "A = [[1,2,3],[5,6,8],[0,4,7]]\n",
    "print(f\"First element of the First list: {A[0][0]}\")\n",
    "print(f\"Last element of the Last list: {A[2][2]}\")"
   ]
  },
  {
   "cell_type": "markdown",
   "id": "acd033c6-e6a7-4110-9221-b167a370ee97",
   "metadata": {},
   "source": [
    "### 60. Nested List Flattening: Write a Python program to flatten a nested list and convert it into a single-dimensional list."
   ]
  },
  {
   "cell_type": "code",
   "execution_count": 6,
   "id": "f491c704-17be-4a20-87c1-29b010979243",
   "metadata": {},
   "outputs": [
    {
     "name": "stdout",
     "output_type": "stream",
     "text": [
      "Old Nested list: [[1, 2, 3], [4, 5, 6], 7, [8, 9]]\n",
      "New Flat list: [1, 2, 3, 4, 5, 6, 7, 8, 9]\n"
     ]
    }
   ],
   "source": [
    "lst = [[1,2,3],[4,5,6],7,[8,9]]\n",
    "flat_list = []\n",
    "for item in lst:\n",
    "    if isinstance(item,list):\n",
    "        for element in item:\n",
    "            flat_list.append(element)\n",
    "    else:\n",
    "        flat_list.append(item)\n",
    "print(f\"Old Nested list: {lst}\")\n",
    "print(f\"New Flat list: {flat_list}\")"
   ]
  },
  {
   "cell_type": "markdown",
   "id": "eff181ca-4edb-4be9-abd6-43ad84d0bd60",
   "metadata": {},
   "source": [
    "### 61. Nested List Sorting: Given a nested list containing lists of integers, write a Python program to sort the sublists based on their lengths."
   ]
  },
  {
   "cell_type": "code",
   "execution_count": 7,
   "id": "e4d77f42-a47e-4735-af04-0bd8be5b420a",
   "metadata": {},
   "outputs": [
    {
     "name": "stdout",
     "output_type": "stream",
     "text": [
      "[[1], [8, 9], [1, 2, 3], [4, 5, 6, 0]]\n"
     ]
    }
   ],
   "source": [
    "lst = [[1,2,3],[4,5,6,0],[8,9],[1]]\n",
    "sorted_lst = sorted(lst, key=len)\n",
    "print(sorted_lst)"
   ]
  },
  {
   "cell_type": "markdown",
   "id": "af313f4d-14a1-49c9-bfdd-40ac0a54830c",
   "metadata": {},
   "source": [
    "### 62. List of Tuples Conversion: Given a nested list containing tuples of (x, y) coordinates, write a Python program to convert it into a list of x-coordinates and a list of y-coordinates."
   ]
  },
  {
   "cell_type": "code",
   "execution_count": 10,
   "id": "33ead972-c19f-4ab8-86f8-f197e0cf444d",
   "metadata": {},
   "outputs": [
    {
     "name": "stdout",
     "output_type": "stream",
     "text": [
      "X Coordinates: [1, -2, 3]\n",
      "Y Coordinates: [2, 5, 4]\n"
     ]
    }
   ],
   "source": [
    "A = [(1,2), (-2,5), (3,4)]\n",
    "x_coordinates = [x for (x,y) in A]\n",
    "y_coordinates = [y for (x,y) in A]\n",
    "print(f\"X Coordinates: {x_coordinates}\\nY Coordinates: {y_coordinates}\")"
   ]
  },
  {
   "cell_type": "markdown",
   "id": "3c1f8ade-82d7-4568-afd0-d041f2d6dcd9",
   "metadata": {},
   "source": [
    "### 63. Matrix Transpose: Write a Python program to transpose a given matrix represented as a nested list."
   ]
  },
  {
   "cell_type": "code",
   "execution_count": 15,
   "id": "40511b62-eacf-45c2-83de-00c7d439685a",
   "metadata": {},
   "outputs": [
    {
     "name": "stdout",
     "output_type": "stream",
     "text": [
      "Transpose of A is : [[1, 6, 1], [3, 3, 7], [2, 2, 3]]\n"
     ]
    }
   ],
   "source": [
    "A = [\n",
    "    [1,3,2],\n",
    "    [6,3,2],\n",
    "    [1,7,3]\n",
    "]\n",
    "rows = len(A)\n",
    "cols = len(A[0])\n",
    "trans_A = [[0 for _ in range(rows)] for _ in range(cols)]\n",
    "for i in range(rows):\n",
    "    for j in range(cols):\n",
    "        trans_A[j][i] += A[i][j]\n",
    "print(f\"Transpose of A is : {trans_A}\")"
   ]
  },
  {
   "cell_type": "markdown",
   "id": "8105c697-1e1b-479c-b1e0-41a54b3437b8",
   "metadata": {},
   "source": [
    "### 64. Nested List Concatenation: Given a list of nested lists, write a Python program to concatenate all the sublists into a single flat list."
   ]
  },
  {
   "cell_type": "code",
   "execution_count": 16,
   "id": "943e6e3f-28fe-4cf3-bccd-1edbee9f54e2",
   "metadata": {},
   "outputs": [
    {
     "name": "stdout",
     "output_type": "stream",
     "text": [
      "[1, 2, 3, 4, 5, 6, 7, 8, 9]\n"
     ]
    }
   ],
   "source": [
    "lst = [[1,2,3],[4,5,6],7,[8,9]]\n",
    "flat_list = []\n",
    "for item in lst:\n",
    "    if isinstance(item, list):\n",
    "        for element in item:\n",
    "            flat_list.append(element)\n",
    "    else:\n",
    "        flat_list.append(item)\n",
    "print(flat_list)"
   ]
  },
  {
   "cell_type": "markdown",
   "id": "e0cdebe9-d257-4719-8c1d-10a949175798",
   "metadata": {},
   "source": [
    "### 65. Count Even Numbers: Write a Python program to count the number of even numbers in a nested list."
   ]
  },
  {
   "cell_type": "code",
   "execution_count": 27,
   "id": "90906c21-b7be-4786-b0d7-c8a0ddcd46b2",
   "metadata": {},
   "outputs": [
    {
     "name": "stdout",
     "output_type": "stream",
     "text": [
      "Number of Even Numbers of the lsit is: 5\n"
     ]
    }
   ],
   "source": [
    "lst = [[1,2,3,7],[4,10,6],7,[8,9]]\n",
    "even_number = 0\n",
    "for item in lst:\n",
    "    if isinstance(item, list):\n",
    "        for element in item:\n",
    "            if element % 2 == 0:\n",
    "                even_number += 1\n",
    "    elif item % 2 == 0:\n",
    "        even_number += 1\n",
    "print(f\"Number of Even Numbers of the lsit is: {even_number}\")"
   ]
  },
  {
   "cell_type": "markdown",
   "id": "a7c9d5eb-a275-45d0-929b-c1e3a51b3cc1",
   "metadata": {},
   "source": [
    "### 66. Maximum Element in Nested List: Write a Python program to find the maximum element in a nested list of integers."
   ]
  },
  {
   "cell_type": "code",
   "execution_count": 30,
   "id": "2a5e0c83-233c-4c0b-8692-117b2357bd60",
   "metadata": {},
   "outputs": [
    {
     "name": "stdout",
     "output_type": "stream",
     "text": [
      "Maximum element: 10\n"
     ]
    }
   ],
   "source": [
    "lst = [[1,2,3,7],[4,10,6],[8,9]]\n",
    "max_num = float('-inf')\n",
    "for item in lst:\n",
    "    for element in item:\n",
    "        if element> max_num:\n",
    "            max_num = element\n",
    "print(f\"Maximum element: {max_num}\")"
   ]
  },
  {
   "cell_type": "markdown",
   "id": "d064c451-14e7-422e-ab91-da174e85d1de",
   "metadata": {},
   "source": [
    "### 67. Diagonal Sum of Matrix: Given a square matrix represented as a nested list, write a Python program to calculate the sum of the elements in the main diagonal."
   ]
  },
  {
   "cell_type": "code",
   "execution_count": 33,
   "id": "e8c2e0a6-ae79-4b03-a815-ec82905c77b8",
   "metadata": {},
   "outputs": [
    {
     "name": "stdout",
     "output_type": "stream",
     "text": [
      "Sum of the diagonal of matrix A: 7\n"
     ]
    }
   ],
   "source": [
    "A = [\n",
    "    [1,3,2],\n",
    "    [6,3,2],\n",
    "    [1,7,3]\n",
    "]\n",
    "sum_diag = 0\n",
    "rows = len(A)\n",
    "for i in range(rows):\n",
    "    sum_diag += A[i][i]\n",
    "print(f\"Sum of the diagonal of matrix A: {sum_diag}\")"
   ]
  },
  {
   "cell_type": "markdown",
   "id": "637ed0fb-c05c-4e4d-b53b-66702e2b7e56",
   "metadata": {},
   "source": [
    "### 68. Nested List Element Search: Write a Python program to search for a specific element in a nested list and return its position (row and column indices)."
   ]
  },
  {
   "cell_type": "code",
   "execution_count": 4,
   "id": "e9b5c80d-1bb3-4bcf-9d7d-dfcae4e1e11a",
   "metadata": {},
   "outputs": [
    {
     "name": "stdout",
     "output_type": "stream",
     "text": [
      "Element3 found at position [(0, 1), (1, 1), (2, 2)]\n"
     ]
    }
   ],
   "source": [
    "A = [\n",
    "    [1,3,2],\n",
    "    [6,3,2],\n",
    "    [1,7,3]\n",
    "]\n",
    "target = 3\n",
    "def find_element(lst, value):\n",
    "    position = []\n",
    "    for i, row in enumerate(lst):\n",
    "        for j, elem in enumerate(row):\n",
    "            if elem == value:\n",
    "                position.append((i,j))\n",
    "    return position\n",
    "all_position = find_element(A,target)\n",
    "if all_position:\n",
    "    print(f\"Element{target} found at position {all_position}\")\n",
    "else:\n",
    "    print(f\"Element {target} didn't find\")"
   ]
  },
  {
   "cell_type": "code",
   "execution_count": null,
   "id": "bd5b79b2-f4a0-4464-a535-1ad8cb3db5a9",
   "metadata": {},
   "outputs": [],
   "source": []
  }
 ],
 "metadata": {
  "kernelspec": {
   "display_name": "Python 3 (ipykernel)",
   "language": "python",
   "name": "python3"
  },
  "language_info": {
   "codemirror_mode": {
    "name": "ipython",
    "version": 3
   },
   "file_extension": ".py",
   "mimetype": "text/x-python",
   "name": "python",
   "nbconvert_exporter": "python",
   "pygments_lexer": "ipython3",
   "version": "3.13.5"
  }
 },
 "nbformat": 4,
 "nbformat_minor": 5
}
